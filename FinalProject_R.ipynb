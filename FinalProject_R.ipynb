{
 "cells": [
  {
   "cell_type": "markdown",
   "id": "ea45d1c4-4863-4493-9b57-0e06548908b2",
   "metadata": {},
   "source": [
    "# About the Project - R"
   ]
  },
  {
   "cell_type": "markdown",
   "id": "ae217dcd-e367-45d6-bf61-e53244c8df78",
   "metadata": {},
   "source": [
    "The objective of this project is to forecast customer attrition by utilizing a dataset that contains more than 20 features that have the potential to impact retention. Logistic regression is the sole model chosen for R analysis.\n",
    "\n",
    "\n",
    "Binary classification tasks are well-suited to Logistic Regression, which provides high interpretability, enabling businesses to comprehend the extent to which individual features contribute to attrition risk. \n",
    "\n",
    "\n",
    "The primary objective is to enhance the model's capacity to accurately identify consumers who are at risk of churn. In a business setting, false positives (predicting churn when the customer would remain) are generally less expensive, as proactive retention efforts may still strengthen customer loyalty. Nevertheless, false negatives (the failure to identify a consumer who will churn) can lead to missed opportunities for intervention and lost revenue. Consequently, the model is assessed with a focus on recall for the attrition class to guarantee that retention strategies are effectively identified among at-risk customers."
   ]
  },
  {
   "cell_type": "markdown",
   "id": "51510b24-ae4f-4e96-9b99-76fc37b0a3cd",
   "metadata": {},
   "source": [
    "# Importing the Churn Dataset"
   ]
  },
  {
   "cell_type": "code",
   "execution_count": 153,
   "id": "1e778f76-64ce-4c71-893a-25d591da3923",
   "metadata": {},
   "outputs": [],
   "source": [
    "library(dplyr)\n",
    "library(readr)\n",
    "library(tidymodels)"
   ]
  },
  {
   "cell_type": "code",
   "execution_count": 135,
   "id": "40eb2730-20d7-466d-8e96-00a27b9bd691",
   "metadata": {},
   "outputs": [],
   "source": [
    "df <- read.csv(\"TelCo.csv\")"
   ]
  },
  {
   "cell_type": "code",
   "execution_count": 137,
   "id": "48d4a751-a9ef-4845-ad54-00118216213e",
   "metadata": {},
   "outputs": [],
   "source": [
    "options(repr.matrix.max.rows=30, repr.matrix.max.cols=200)"
   ]
  },
  {
   "cell_type": "code",
   "execution_count": 9,
   "id": "1f66a623-b54c-4196-b621-0de9de46c337",
   "metadata": {},
   "outputs": [
    {
     "data": {
      "text/html": [
       "<table class=\"dataframe\">\n",
       "<caption>A data.frame: 6 × 21</caption>\n",
       "<thead>\n",
       "\t<tr><th></th><th scope=col>customerID</th><th scope=col>gender</th><th scope=col>SeniorCitizen</th><th scope=col>Partner</th><th scope=col>Dependents</th><th scope=col>tenure</th><th scope=col>PhoneService</th><th scope=col>MultipleLines</th><th scope=col>InternetService</th><th scope=col>OnlineSecurity</th><th scope=col>OnlineBackup</th><th scope=col>DeviceProtection</th><th scope=col>TechSupport</th><th scope=col>StreamingTV</th><th scope=col>StreamingMovies</th><th scope=col>Contract</th><th scope=col>PaperlessBilling</th><th scope=col>PaymentMethod</th><th scope=col>MonthlyCharges</th><th scope=col>TotalCharges</th><th scope=col>Churn</th></tr>\n",
       "\t<tr><th></th><th scope=col>&lt;chr&gt;</th><th scope=col>&lt;chr&gt;</th><th scope=col>&lt;int&gt;</th><th scope=col>&lt;chr&gt;</th><th scope=col>&lt;chr&gt;</th><th scope=col>&lt;int&gt;</th><th scope=col>&lt;chr&gt;</th><th scope=col>&lt;chr&gt;</th><th scope=col>&lt;chr&gt;</th><th scope=col>&lt;chr&gt;</th><th scope=col>&lt;chr&gt;</th><th scope=col>&lt;chr&gt;</th><th scope=col>&lt;chr&gt;</th><th scope=col>&lt;chr&gt;</th><th scope=col>&lt;chr&gt;</th><th scope=col>&lt;chr&gt;</th><th scope=col>&lt;chr&gt;</th><th scope=col>&lt;chr&gt;</th><th scope=col>&lt;dbl&gt;</th><th scope=col>&lt;dbl&gt;</th><th scope=col>&lt;chr&gt;</th></tr>\n",
       "</thead>\n",
       "<tbody>\n",
       "\t<tr><th scope=row>1</th><td>7590-VHVEG</td><td>Female</td><td>0</td><td>Yes</td><td>No</td><td> 1</td><td>No </td><td>No phone service</td><td>DSL        </td><td>No </td><td>Yes</td><td>No </td><td>No </td><td>No </td><td>No </td><td>Month-to-month</td><td>Yes</td><td>Electronic check         </td><td>29.85</td><td>  29.85</td><td>No </td></tr>\n",
       "\t<tr><th scope=row>2</th><td>5575-GNVDE</td><td>Male  </td><td>0</td><td>No </td><td>No</td><td>34</td><td>Yes</td><td>No              </td><td>DSL        </td><td>Yes</td><td>No </td><td>Yes</td><td>No </td><td>No </td><td>No </td><td>One year      </td><td>No </td><td>Mailed check             </td><td>56.95</td><td>1889.50</td><td>No </td></tr>\n",
       "\t<tr><th scope=row>3</th><td>3668-QPYBK</td><td>Male  </td><td>0</td><td>No </td><td>No</td><td> 2</td><td>Yes</td><td>No              </td><td>DSL        </td><td>Yes</td><td>Yes</td><td>No </td><td>No </td><td>No </td><td>No </td><td>Month-to-month</td><td>Yes</td><td>Mailed check             </td><td>53.85</td><td> 108.15</td><td>Yes</td></tr>\n",
       "\t<tr><th scope=row>4</th><td>7795-CFOCW</td><td>Male  </td><td>0</td><td>No </td><td>No</td><td>45</td><td>No </td><td>No phone service</td><td>DSL        </td><td>Yes</td><td>No </td><td>Yes</td><td>Yes</td><td>No </td><td>No </td><td>One year      </td><td>No </td><td>Bank transfer (automatic)</td><td>42.30</td><td>1840.75</td><td>No </td></tr>\n",
       "\t<tr><th scope=row>5</th><td>9237-HQITU</td><td>Female</td><td>0</td><td>No </td><td>No</td><td> 2</td><td>Yes</td><td>No              </td><td>Fiber optic</td><td>No </td><td>No </td><td>No </td><td>No </td><td>No </td><td>No </td><td>Month-to-month</td><td>Yes</td><td>Electronic check         </td><td>70.70</td><td> 151.65</td><td>Yes</td></tr>\n",
       "\t<tr><th scope=row>6</th><td>9305-CDSKC</td><td>Female</td><td>0</td><td>No </td><td>No</td><td> 8</td><td>Yes</td><td>Yes             </td><td>Fiber optic</td><td>No </td><td>No </td><td>Yes</td><td>No </td><td>Yes</td><td>Yes</td><td>Month-to-month</td><td>Yes</td><td>Electronic check         </td><td>99.65</td><td> 820.50</td><td>Yes</td></tr>\n",
       "</tbody>\n",
       "</table>\n"
      ],
      "text/latex": [
       "A data.frame: 6 × 21\n",
       "\\begin{tabular}{r|lllllllllllllllllllll}\n",
       "  & customerID & gender & SeniorCitizen & Partner & Dependents & tenure & PhoneService & MultipleLines & InternetService & OnlineSecurity & OnlineBackup & DeviceProtection & TechSupport & StreamingTV & StreamingMovies & Contract & PaperlessBilling & PaymentMethod & MonthlyCharges & TotalCharges & Churn\\\\\n",
       "  & <chr> & <chr> & <int> & <chr> & <chr> & <int> & <chr> & <chr> & <chr> & <chr> & <chr> & <chr> & <chr> & <chr> & <chr> & <chr> & <chr> & <chr> & <dbl> & <dbl> & <chr>\\\\\n",
       "\\hline\n",
       "\t1 & 7590-VHVEG & Female & 0 & Yes & No &  1 & No  & No phone service & DSL         & No  & Yes & No  & No  & No  & No  & Month-to-month & Yes & Electronic check          & 29.85 &   29.85 & No \\\\\n",
       "\t2 & 5575-GNVDE & Male   & 0 & No  & No & 34 & Yes & No               & DSL         & Yes & No  & Yes & No  & No  & No  & One year       & No  & Mailed check              & 56.95 & 1889.50 & No \\\\\n",
       "\t3 & 3668-QPYBK & Male   & 0 & No  & No &  2 & Yes & No               & DSL         & Yes & Yes & No  & No  & No  & No  & Month-to-month & Yes & Mailed check              & 53.85 &  108.15 & Yes\\\\\n",
       "\t4 & 7795-CFOCW & Male   & 0 & No  & No & 45 & No  & No phone service & DSL         & Yes & No  & Yes & Yes & No  & No  & One year       & No  & Bank transfer (automatic) & 42.30 & 1840.75 & No \\\\\n",
       "\t5 & 9237-HQITU & Female & 0 & No  & No &  2 & Yes & No               & Fiber optic & No  & No  & No  & No  & No  & No  & Month-to-month & Yes & Electronic check          & 70.70 &  151.65 & Yes\\\\\n",
       "\t6 & 9305-CDSKC & Female & 0 & No  & No &  8 & Yes & Yes              & Fiber optic & No  & No  & Yes & No  & Yes & Yes & Month-to-month & Yes & Electronic check          & 99.65 &  820.50 & Yes\\\\\n",
       "\\end{tabular}\n"
      ],
      "text/markdown": [
       "\n",
       "A data.frame: 6 × 21\n",
       "\n",
       "| <!--/--> | customerID &lt;chr&gt; | gender &lt;chr&gt; | SeniorCitizen &lt;int&gt; | Partner &lt;chr&gt; | Dependents &lt;chr&gt; | tenure &lt;int&gt; | PhoneService &lt;chr&gt; | MultipleLines &lt;chr&gt; | InternetService &lt;chr&gt; | OnlineSecurity &lt;chr&gt; | OnlineBackup &lt;chr&gt; | DeviceProtection &lt;chr&gt; | TechSupport &lt;chr&gt; | StreamingTV &lt;chr&gt; | StreamingMovies &lt;chr&gt; | Contract &lt;chr&gt; | PaperlessBilling &lt;chr&gt; | PaymentMethod &lt;chr&gt; | MonthlyCharges &lt;dbl&gt; | TotalCharges &lt;dbl&gt; | Churn &lt;chr&gt; |\n",
       "|---|---|---|---|---|---|---|---|---|---|---|---|---|---|---|---|---|---|---|---|---|---|\n",
       "| 1 | 7590-VHVEG | Female | 0 | Yes | No |  1 | No  | No phone service | DSL         | No  | Yes | No  | No  | No  | No  | Month-to-month | Yes | Electronic check          | 29.85 |   29.85 | No  |\n",
       "| 2 | 5575-GNVDE | Male   | 0 | No  | No | 34 | Yes | No               | DSL         | Yes | No  | Yes | No  | No  | No  | One year       | No  | Mailed check              | 56.95 | 1889.50 | No  |\n",
       "| 3 | 3668-QPYBK | Male   | 0 | No  | No |  2 | Yes | No               | DSL         | Yes | Yes | No  | No  | No  | No  | Month-to-month | Yes | Mailed check              | 53.85 |  108.15 | Yes |\n",
       "| 4 | 7795-CFOCW | Male   | 0 | No  | No | 45 | No  | No phone service | DSL         | Yes | No  | Yes | Yes | No  | No  | One year       | No  | Bank transfer (automatic) | 42.30 | 1840.75 | No  |\n",
       "| 5 | 9237-HQITU | Female | 0 | No  | No |  2 | Yes | No               | Fiber optic | No  | No  | No  | No  | No  | No  | Month-to-month | Yes | Electronic check          | 70.70 |  151.65 | Yes |\n",
       "| 6 | 9305-CDSKC | Female | 0 | No  | No |  8 | Yes | Yes              | Fiber optic | No  | No  | Yes | No  | Yes | Yes | Month-to-month | Yes | Electronic check          | 99.65 |  820.50 | Yes |\n",
       "\n"
      ],
      "text/plain": [
       "  customerID gender SeniorCitizen Partner Dependents tenure PhoneService\n",
       "1 7590-VHVEG Female 0             Yes     No          1     No          \n",
       "2 5575-GNVDE Male   0             No      No         34     Yes         \n",
       "3 3668-QPYBK Male   0             No      No          2     Yes         \n",
       "4 7795-CFOCW Male   0             No      No         45     No          \n",
       "5 9237-HQITU Female 0             No      No          2     Yes         \n",
       "6 9305-CDSKC Female 0             No      No          8     Yes         \n",
       "  MultipleLines    InternetService OnlineSecurity OnlineBackup DeviceProtection\n",
       "1 No phone service DSL             No             Yes          No              \n",
       "2 No               DSL             Yes            No           Yes             \n",
       "3 No               DSL             Yes            Yes          No              \n",
       "4 No phone service DSL             Yes            No           Yes             \n",
       "5 No               Fiber optic     No             No           No              \n",
       "6 Yes              Fiber optic     No             No           Yes             \n",
       "  TechSupport StreamingTV StreamingMovies Contract       PaperlessBilling\n",
       "1 No          No          No              Month-to-month Yes             \n",
       "2 No          No          No              One year       No              \n",
       "3 No          No          No              Month-to-month Yes             \n",
       "4 Yes         No          No              One year       No              \n",
       "5 No          No          No              Month-to-month Yes             \n",
       "6 No          Yes         Yes             Month-to-month Yes             \n",
       "  PaymentMethod             MonthlyCharges TotalCharges Churn\n",
       "1 Electronic check          29.85            29.85      No   \n",
       "2 Mailed check              56.95          1889.50      No   \n",
       "3 Mailed check              53.85           108.15      Yes  \n",
       "4 Bank transfer (automatic) 42.30          1840.75      No   \n",
       "5 Electronic check          70.70           151.65      Yes  \n",
       "6 Electronic check          99.65           820.50      Yes  "
      ]
     },
     "metadata": {},
     "output_type": "display_data"
    }
   ],
   "source": [
    "head(df)"
   ]
  },
  {
   "cell_type": "markdown",
   "id": "9be5878d-c170-4495-b78d-d5a5bebe9826",
   "metadata": {},
   "source": [
    "# Data Preproccesing"
   ]
  },
  {
   "cell_type": "markdown",
   "id": "f477e391-8868-4f15-bad9-f39bd1cc0db0",
   "metadata": {},
   "source": [
    "### Searching for Duplicate Data"
   ]
  },
  {
   "cell_type": "code",
   "execution_count": 11,
   "id": "3d5fc13d-9b54-4c2f-a17d-2c69a114bb15",
   "metadata": {},
   "outputs": [
    {
     "data": {
      "text/html": [
       "<style>\n",
       ".list-inline {list-style: none; margin:0; padding: 0}\n",
       ".list-inline>li {display: inline-block}\n",
       ".list-inline>li:not(:last-child)::after {content: \"\\00b7\"; padding: 0 .5ex}\n",
       "</style>\n",
       "<ol class=list-inline><li>7043</li><li>21</li></ol>\n"
      ],
      "text/latex": [
       "\\begin{enumerate*}\n",
       "\\item 7043\n",
       "\\item 21\n",
       "\\end{enumerate*}\n"
      ],
      "text/markdown": [
       "1. 7043\n",
       "2. 21\n",
       "\n",
       "\n"
      ],
      "text/plain": [
       "[1] 7043   21"
      ]
     },
     "metadata": {},
     "output_type": "display_data"
    }
   ],
   "source": [
    "dim(df)"
   ]
  },
  {
   "cell_type": "code",
   "execution_count": 13,
   "id": "6068430e-713a-4c80-a9b1-83b193456793",
   "metadata": {},
   "outputs": [
    {
     "data": {
      "text/html": [
       "0"
      ],
      "text/latex": [
       "0"
      ],
      "text/markdown": [
       "0"
      ],
      "text/plain": [
       "[1] 0"
      ]
     },
     "metadata": {},
     "output_type": "display_data"
    }
   ],
   "source": [
    "anyDuplicated(df)"
   ]
  },
  {
   "cell_type": "markdown",
   "id": "80409aee-f62c-4d72-a5d6-d0c87891133c",
   "metadata": {},
   "source": [
    "The anyDuplicated function output reveals that there are no duplicated rows in the dataset."
   ]
  },
  {
   "cell_type": "markdown",
   "id": "0fca4522-9efe-469d-a13f-8c43ab96fa69",
   "metadata": {},
   "source": [
    "### Searching for Missing Data"
   ]
  },
  {
   "cell_type": "code",
   "execution_count": 15,
   "id": "9c204bd1-67be-483f-aef7-7aff881ca175",
   "metadata": {},
   "outputs": [
    {
     "data": {
      "text/html": [
       "11"
      ],
      "text/latex": [
       "11"
      ],
      "text/markdown": [
       "11"
      ],
      "text/plain": [
       "[1] 11"
      ]
     },
     "metadata": {},
     "output_type": "display_data"
    }
   ],
   "source": [
    "sum(is.na(df))"
   ]
  },
  {
   "cell_type": "code",
   "execution_count": 17,
   "id": "c0ae666c-df29-4331-acf4-540146da7407",
   "metadata": {},
   "outputs": [
    {
     "data": {
      "text/plain": [
       "  customerID           gender          SeniorCitizen      Partner         \n",
       " Length:7043        Length:7043        Min.   :0.0000   Length:7043       \n",
       " Class :character   Class :character   1st Qu.:0.0000   Class :character  \n",
       " Mode  :character   Mode  :character   Median :0.0000   Mode  :character  \n",
       "                                       Mean   :0.1621                     \n",
       "                                       3rd Qu.:0.0000                     \n",
       "                                       Max.   :1.0000                     \n",
       "                                                                          \n",
       "  Dependents            tenure      PhoneService       MultipleLines     \n",
       " Length:7043        Min.   : 0.00   Length:7043        Length:7043       \n",
       " Class :character   1st Qu.: 9.00   Class :character   Class :character  \n",
       " Mode  :character   Median :29.00   Mode  :character   Mode  :character  \n",
       "                    Mean   :32.37                                        \n",
       "                    3rd Qu.:55.00                                        \n",
       "                    Max.   :72.00                                        \n",
       "                                                                         \n",
       " InternetService    OnlineSecurity     OnlineBackup       DeviceProtection  \n",
       " Length:7043        Length:7043        Length:7043        Length:7043       \n",
       " Class :character   Class :character   Class :character   Class :character  \n",
       " Mode  :character   Mode  :character   Mode  :character   Mode  :character  \n",
       "                                                                            \n",
       "                                                                            \n",
       "                                                                            \n",
       "                                                                            \n",
       " TechSupport        StreamingTV        StreamingMovies      Contract        \n",
       " Length:7043        Length:7043        Length:7043        Length:7043       \n",
       " Class :character   Class :character   Class :character   Class :character  \n",
       " Mode  :character   Mode  :character   Mode  :character   Mode  :character  \n",
       "                                                                            \n",
       "                                                                            \n",
       "                                                                            \n",
       "                                                                            \n",
       " PaperlessBilling   PaymentMethod      MonthlyCharges    TotalCharges   \n",
       " Length:7043        Length:7043        Min.   : 18.25   Min.   :  18.8  \n",
       " Class :character   Class :character   1st Qu.: 35.50   1st Qu.: 401.4  \n",
       " Mode  :character   Mode  :character   Median : 70.35   Median :1397.5  \n",
       "                                       Mean   : 64.76   Mean   :2283.3  \n",
       "                                       3rd Qu.: 89.85   3rd Qu.:3794.7  \n",
       "                                       Max.   :118.75   Max.   :8684.8  \n",
       "                                                        NA's   :11      \n",
       "    Churn          \n",
       " Length:7043       \n",
       " Class :character  \n",
       " Mode  :character  \n",
       "                   \n",
       "                   \n",
       "                   \n",
       "                   "
      ]
     },
     "metadata": {},
     "output_type": "display_data"
    }
   ],
   "source": [
    "summary(df)"
   ]
  },
  {
   "cell_type": "markdown",
   "id": "4c4e7cfe-06c3-439d-9345-115063e3d5f6",
   "metadata": {},
   "source": [
    "The summary function shows that the NA values are located in the TotalCharges column.\n",
    "\n",
    "\n",
    "'TotalCharges' is more or less derived from a combination of 'tenure' and 'MonthlyCharges'. Because of this, including 'TotalCharges' would make the data redundant and can lead to interpretive issues and potential overfitting.\n",
    "\n",
    "That being said, 'TotalCharges' column is going to not being used in the models, and therefore does not need to have its associated rows removed. \n"
   ]
  },
  {
   "cell_type": "markdown",
   "id": "01a7d40e-db34-49bd-8c68-bc4c956f21b1",
   "metadata": {},
   "source": [
    "### Factoring Multiclass Features \n",
    "\n",
    "Factoring features in R works as a one-hot encoder for the model. Features with type Factor are not separated into separate columns visually like one-hot encoder does, but when the feature is interpreted by the model it knows to create dummy variables for the features.\n",
    "\n",
    "\n",
    "Our multiclass features in need of factoring are MultipleLines, InternetService, Contract, PaymentMethod."
   ]
  },
  {
   "cell_type": "code",
   "execution_count": 19,
   "id": "21f3fd2a-4fac-45ba-bb4a-3f943f28c00d",
   "metadata": {},
   "outputs": [
    {
     "data": {
      "text/html": [
       "<table class=\"dataframe\">\n",
       "<caption>A data.frame: 6 × 21</caption>\n",
       "<thead>\n",
       "\t<tr><th></th><th scope=col>customerID</th><th scope=col>gender</th><th scope=col>SeniorCitizen</th><th scope=col>Partner</th><th scope=col>Dependents</th><th scope=col>tenure</th><th scope=col>PhoneService</th><th scope=col>MultipleLines</th><th scope=col>InternetService</th><th scope=col>OnlineSecurity</th><th scope=col>OnlineBackup</th><th scope=col>DeviceProtection</th><th scope=col>TechSupport</th><th scope=col>StreamingTV</th><th scope=col>StreamingMovies</th><th scope=col>Contract</th><th scope=col>PaperlessBilling</th><th scope=col>PaymentMethod</th><th scope=col>MonthlyCharges</th><th scope=col>TotalCharges</th><th scope=col>Churn</th></tr>\n",
       "\t<tr><th></th><th scope=col>&lt;chr&gt;</th><th scope=col>&lt;chr&gt;</th><th scope=col>&lt;int&gt;</th><th scope=col>&lt;chr&gt;</th><th scope=col>&lt;chr&gt;</th><th scope=col>&lt;int&gt;</th><th scope=col>&lt;chr&gt;</th><th scope=col>&lt;chr&gt;</th><th scope=col>&lt;chr&gt;</th><th scope=col>&lt;chr&gt;</th><th scope=col>&lt;chr&gt;</th><th scope=col>&lt;chr&gt;</th><th scope=col>&lt;chr&gt;</th><th scope=col>&lt;chr&gt;</th><th scope=col>&lt;chr&gt;</th><th scope=col>&lt;chr&gt;</th><th scope=col>&lt;chr&gt;</th><th scope=col>&lt;chr&gt;</th><th scope=col>&lt;dbl&gt;</th><th scope=col>&lt;dbl&gt;</th><th scope=col>&lt;chr&gt;</th></tr>\n",
       "</thead>\n",
       "<tbody>\n",
       "\t<tr><th scope=row>1</th><td>7590-VHVEG</td><td>Female</td><td>0</td><td>Yes</td><td>No</td><td> 1</td><td>No </td><td>No phone service</td><td>DSL        </td><td>No </td><td>Yes</td><td>No </td><td>No </td><td>No </td><td>No </td><td>Month-to-month</td><td>Yes</td><td>Electronic check         </td><td>29.85</td><td>  29.85</td><td>No </td></tr>\n",
       "\t<tr><th scope=row>2</th><td>5575-GNVDE</td><td>Male  </td><td>0</td><td>No </td><td>No</td><td>34</td><td>Yes</td><td>No              </td><td>DSL        </td><td>Yes</td><td>No </td><td>Yes</td><td>No </td><td>No </td><td>No </td><td>One year      </td><td>No </td><td>Mailed check             </td><td>56.95</td><td>1889.50</td><td>No </td></tr>\n",
       "\t<tr><th scope=row>3</th><td>3668-QPYBK</td><td>Male  </td><td>0</td><td>No </td><td>No</td><td> 2</td><td>Yes</td><td>No              </td><td>DSL        </td><td>Yes</td><td>Yes</td><td>No </td><td>No </td><td>No </td><td>No </td><td>Month-to-month</td><td>Yes</td><td>Mailed check             </td><td>53.85</td><td> 108.15</td><td>Yes</td></tr>\n",
       "\t<tr><th scope=row>4</th><td>7795-CFOCW</td><td>Male  </td><td>0</td><td>No </td><td>No</td><td>45</td><td>No </td><td>No phone service</td><td>DSL        </td><td>Yes</td><td>No </td><td>Yes</td><td>Yes</td><td>No </td><td>No </td><td>One year      </td><td>No </td><td>Bank transfer (automatic)</td><td>42.30</td><td>1840.75</td><td>No </td></tr>\n",
       "\t<tr><th scope=row>5</th><td>9237-HQITU</td><td>Female</td><td>0</td><td>No </td><td>No</td><td> 2</td><td>Yes</td><td>No              </td><td>Fiber optic</td><td>No </td><td>No </td><td>No </td><td>No </td><td>No </td><td>No </td><td>Month-to-month</td><td>Yes</td><td>Electronic check         </td><td>70.70</td><td> 151.65</td><td>Yes</td></tr>\n",
       "\t<tr><th scope=row>6</th><td>9305-CDSKC</td><td>Female</td><td>0</td><td>No </td><td>No</td><td> 8</td><td>Yes</td><td>Yes             </td><td>Fiber optic</td><td>No </td><td>No </td><td>Yes</td><td>No </td><td>Yes</td><td>Yes</td><td>Month-to-month</td><td>Yes</td><td>Electronic check         </td><td>99.65</td><td> 820.50</td><td>Yes</td></tr>\n",
       "</tbody>\n",
       "</table>\n"
      ],
      "text/latex": [
       "A data.frame: 6 × 21\n",
       "\\begin{tabular}{r|lllllllllllllllllllll}\n",
       "  & customerID & gender & SeniorCitizen & Partner & Dependents & tenure & PhoneService & MultipleLines & InternetService & OnlineSecurity & OnlineBackup & DeviceProtection & TechSupport & StreamingTV & StreamingMovies & Contract & PaperlessBilling & PaymentMethod & MonthlyCharges & TotalCharges & Churn\\\\\n",
       "  & <chr> & <chr> & <int> & <chr> & <chr> & <int> & <chr> & <chr> & <chr> & <chr> & <chr> & <chr> & <chr> & <chr> & <chr> & <chr> & <chr> & <chr> & <dbl> & <dbl> & <chr>\\\\\n",
       "\\hline\n",
       "\t1 & 7590-VHVEG & Female & 0 & Yes & No &  1 & No  & No phone service & DSL         & No  & Yes & No  & No  & No  & No  & Month-to-month & Yes & Electronic check          & 29.85 &   29.85 & No \\\\\n",
       "\t2 & 5575-GNVDE & Male   & 0 & No  & No & 34 & Yes & No               & DSL         & Yes & No  & Yes & No  & No  & No  & One year       & No  & Mailed check              & 56.95 & 1889.50 & No \\\\\n",
       "\t3 & 3668-QPYBK & Male   & 0 & No  & No &  2 & Yes & No               & DSL         & Yes & Yes & No  & No  & No  & No  & Month-to-month & Yes & Mailed check              & 53.85 &  108.15 & Yes\\\\\n",
       "\t4 & 7795-CFOCW & Male   & 0 & No  & No & 45 & No  & No phone service & DSL         & Yes & No  & Yes & Yes & No  & No  & One year       & No  & Bank transfer (automatic) & 42.30 & 1840.75 & No \\\\\n",
       "\t5 & 9237-HQITU & Female & 0 & No  & No &  2 & Yes & No               & Fiber optic & No  & No  & No  & No  & No  & No  & Month-to-month & Yes & Electronic check          & 70.70 &  151.65 & Yes\\\\\n",
       "\t6 & 9305-CDSKC & Female & 0 & No  & No &  8 & Yes & Yes              & Fiber optic & No  & No  & Yes & No  & Yes & Yes & Month-to-month & Yes & Electronic check          & 99.65 &  820.50 & Yes\\\\\n",
       "\\end{tabular}\n"
      ],
      "text/markdown": [
       "\n",
       "A data.frame: 6 × 21\n",
       "\n",
       "| <!--/--> | customerID &lt;chr&gt; | gender &lt;chr&gt; | SeniorCitizen &lt;int&gt; | Partner &lt;chr&gt; | Dependents &lt;chr&gt; | tenure &lt;int&gt; | PhoneService &lt;chr&gt; | MultipleLines &lt;chr&gt; | InternetService &lt;chr&gt; | OnlineSecurity &lt;chr&gt; | OnlineBackup &lt;chr&gt; | DeviceProtection &lt;chr&gt; | TechSupport &lt;chr&gt; | StreamingTV &lt;chr&gt; | StreamingMovies &lt;chr&gt; | Contract &lt;chr&gt; | PaperlessBilling &lt;chr&gt; | PaymentMethod &lt;chr&gt; | MonthlyCharges &lt;dbl&gt; | TotalCharges &lt;dbl&gt; | Churn &lt;chr&gt; |\n",
       "|---|---|---|---|---|---|---|---|---|---|---|---|---|---|---|---|---|---|---|---|---|---|\n",
       "| 1 | 7590-VHVEG | Female | 0 | Yes | No |  1 | No  | No phone service | DSL         | No  | Yes | No  | No  | No  | No  | Month-to-month | Yes | Electronic check          | 29.85 |   29.85 | No  |\n",
       "| 2 | 5575-GNVDE | Male   | 0 | No  | No | 34 | Yes | No               | DSL         | Yes | No  | Yes | No  | No  | No  | One year       | No  | Mailed check              | 56.95 | 1889.50 | No  |\n",
       "| 3 | 3668-QPYBK | Male   | 0 | No  | No |  2 | Yes | No               | DSL         | Yes | Yes | No  | No  | No  | No  | Month-to-month | Yes | Mailed check              | 53.85 |  108.15 | Yes |\n",
       "| 4 | 7795-CFOCW | Male   | 0 | No  | No | 45 | No  | No phone service | DSL         | Yes | No  | Yes | Yes | No  | No  | One year       | No  | Bank transfer (automatic) | 42.30 | 1840.75 | No  |\n",
       "| 5 | 9237-HQITU | Female | 0 | No  | No |  2 | Yes | No               | Fiber optic | No  | No  | No  | No  | No  | No  | Month-to-month | Yes | Electronic check          | 70.70 |  151.65 | Yes |\n",
       "| 6 | 9305-CDSKC | Female | 0 | No  | No |  8 | Yes | Yes              | Fiber optic | No  | No  | Yes | No  | Yes | Yes | Month-to-month | Yes | Electronic check          | 99.65 |  820.50 | Yes |\n",
       "\n"
      ],
      "text/plain": [
       "  customerID gender SeniorCitizen Partner Dependents tenure PhoneService\n",
       "1 7590-VHVEG Female 0             Yes     No          1     No          \n",
       "2 5575-GNVDE Male   0             No      No         34     Yes         \n",
       "3 3668-QPYBK Male   0             No      No          2     Yes         \n",
       "4 7795-CFOCW Male   0             No      No         45     No          \n",
       "5 9237-HQITU Female 0             No      No          2     Yes         \n",
       "6 9305-CDSKC Female 0             No      No          8     Yes         \n",
       "  MultipleLines    InternetService OnlineSecurity OnlineBackup DeviceProtection\n",
       "1 No phone service DSL             No             Yes          No              \n",
       "2 No               DSL             Yes            No           Yes             \n",
       "3 No               DSL             Yes            Yes          No              \n",
       "4 No phone service DSL             Yes            No           Yes             \n",
       "5 No               Fiber optic     No             No           No              \n",
       "6 Yes              Fiber optic     No             No           Yes             \n",
       "  TechSupport StreamingTV StreamingMovies Contract       PaperlessBilling\n",
       "1 No          No          No              Month-to-month Yes             \n",
       "2 No          No          No              One year       No              \n",
       "3 No          No          No              Month-to-month Yes             \n",
       "4 Yes         No          No              One year       No              \n",
       "5 No          No          No              Month-to-month Yes             \n",
       "6 No          Yes         Yes             Month-to-month Yes             \n",
       "  PaymentMethod             MonthlyCharges TotalCharges Churn\n",
       "1 Electronic check          29.85            29.85      No   \n",
       "2 Mailed check              56.95          1889.50      No   \n",
       "3 Mailed check              53.85           108.15      Yes  \n",
       "4 Bank transfer (automatic) 42.30          1840.75      No   \n",
       "5 Electronic check          70.70           151.65      Yes  \n",
       "6 Electronic check          99.65           820.50      Yes  "
      ]
     },
     "metadata": {},
     "output_type": "display_data"
    }
   ],
   "source": [
    "head(df)"
   ]
  },
  {
   "cell_type": "code",
   "execution_count": 21,
   "id": "833af147-27f9-4638-804b-36d8c1d33417",
   "metadata": {},
   "outputs": [],
   "source": [
    "df$MultipleLines <- as.factor(df$MultipleLines)"
   ]
  },
  {
   "cell_type": "code",
   "execution_count": 23,
   "id": "352b6e65-43f9-4694-aa86-388001eacd89",
   "metadata": {},
   "outputs": [],
   "source": [
    "df$InternetService <- as.factor(df$InternetService)"
   ]
  },
  {
   "cell_type": "code",
   "execution_count": 25,
   "id": "6b701933-9b29-405d-a79c-afe6cc880e24",
   "metadata": {},
   "outputs": [],
   "source": [
    "df$Contract <- as.factor(df$Contract)"
   ]
  },
  {
   "cell_type": "code",
   "execution_count": 27,
   "id": "6278a39b-b790-4f1a-b04c-6aa7151d4f08",
   "metadata": {},
   "outputs": [],
   "source": [
    "df$PaymentMethod <- as.factor(df$PaymentMethod)"
   ]
  },
  {
   "cell_type": "markdown",
   "id": "ed5a664b-190d-4fef-8cd6-c9fe8664e786",
   "metadata": {},
   "source": [
    "### Changing Binary String Values into Binary Integer Values\n",
    "\n",
    "It is necessary for the models that binary string features (Yes and No) are turned into binary integer features (0 and 1), where Yes = 1 and No = 0. This is also done for gender where male = 1 and female = 0. "
   ]
  },
  {
   "cell_type": "markdown",
   "id": "b1503ed4-5b26-4c62-a86d-79a15a4421a2",
   "metadata": {},
   "source": [
    "The features in need of this conversion include:\n",
    "- gender\n",
    "- Partner - relationship status\n",
    "- Dependents\n",
    "- PhoneService\n",
    "- OnlineSecurity\n",
    "- OnlineBackup\n",
    "- DeviceProtection\n",
    "- TechSupport\n",
    "- StreamingTV\n",
    "- StreamingMovies\n",
    "- PaperlessBilling\n",
    "- Churn"
   ]
  },
  {
   "cell_type": "code",
   "execution_count": 29,
   "id": "1ad1c7b3-cba8-4a85-bf42-931c6f999f78",
   "metadata": {},
   "outputs": [],
   "source": [
    "df$gender <- ifelse(test=df$gender == \"Male\", yes = 1, no = 0)"
   ]
  },
  {
   "cell_type": "code",
   "execution_count": 31,
   "id": "14085b9b-9744-4e31-afad-7dcaf8061f22",
   "metadata": {},
   "outputs": [
    {
     "data": {
      "text/html": [
       "<style>\n",
       ".list-inline {list-style: none; margin:0; padding: 0}\n",
       ".list-inline>li {display: inline-block}\n",
       ".list-inline>li:not(:last-child)::after {content: \"\\00b7\"; padding: 0 .5ex}\n",
       "</style>\n",
       "<ol class=list-inline><li>0</li><li>1</li><li>1</li><li>1</li><li>0</li><li>0</li></ol>\n"
      ],
      "text/latex": [
       "\\begin{enumerate*}\n",
       "\\item 0\n",
       "\\item 1\n",
       "\\item 1\n",
       "\\item 1\n",
       "\\item 0\n",
       "\\item 0\n",
       "\\end{enumerate*}\n"
      ],
      "text/markdown": [
       "1. 0\n",
       "2. 1\n",
       "3. 1\n",
       "4. 1\n",
       "5. 0\n",
       "6. 0\n",
       "\n",
       "\n"
      ],
      "text/plain": [
       "[1] 0 1 1 1 0 0"
      ]
     },
     "metadata": {},
     "output_type": "display_data"
    }
   ],
   "source": [
    "head(df$gender)"
   ]
  },
  {
   "cell_type": "code",
   "execution_count": 33,
   "id": "efea4692-738b-4e86-8d66-eca059bd6e10",
   "metadata": {},
   "outputs": [
    {
     "data": {
      "text/html": [
       "<table class=\"dataframe\">\n",
       "<caption>A data.frame: 6 × 21</caption>\n",
       "<thead>\n",
       "\t<tr><th></th><th scope=col>customerID</th><th scope=col>gender</th><th scope=col>SeniorCitizen</th><th scope=col>Partner</th><th scope=col>Dependents</th><th scope=col>tenure</th><th scope=col>PhoneService</th><th scope=col>MultipleLines</th><th scope=col>InternetService</th><th scope=col>OnlineSecurity</th><th scope=col>OnlineBackup</th><th scope=col>DeviceProtection</th><th scope=col>TechSupport</th><th scope=col>StreamingTV</th><th scope=col>StreamingMovies</th><th scope=col>Contract</th><th scope=col>PaperlessBilling</th><th scope=col>PaymentMethod</th><th scope=col>MonthlyCharges</th><th scope=col>TotalCharges</th><th scope=col>Churn</th></tr>\n",
       "\t<tr><th></th><th scope=col>&lt;chr&gt;</th><th scope=col>&lt;dbl&gt;</th><th scope=col>&lt;int&gt;</th><th scope=col>&lt;chr&gt;</th><th scope=col>&lt;chr&gt;</th><th scope=col>&lt;int&gt;</th><th scope=col>&lt;chr&gt;</th><th scope=col>&lt;fct&gt;</th><th scope=col>&lt;fct&gt;</th><th scope=col>&lt;chr&gt;</th><th scope=col>&lt;chr&gt;</th><th scope=col>&lt;chr&gt;</th><th scope=col>&lt;chr&gt;</th><th scope=col>&lt;chr&gt;</th><th scope=col>&lt;chr&gt;</th><th scope=col>&lt;fct&gt;</th><th scope=col>&lt;chr&gt;</th><th scope=col>&lt;fct&gt;</th><th scope=col>&lt;dbl&gt;</th><th scope=col>&lt;dbl&gt;</th><th scope=col>&lt;chr&gt;</th></tr>\n",
       "</thead>\n",
       "<tbody>\n",
       "\t<tr><th scope=row>1</th><td>7590-VHVEG</td><td>0</td><td>0</td><td>Yes</td><td>No</td><td> 1</td><td>No </td><td>No phone service</td><td>DSL        </td><td>No </td><td>Yes</td><td>No </td><td>No </td><td>No </td><td>No </td><td>Month-to-month</td><td>Yes</td><td>Electronic check         </td><td>29.85</td><td>  29.85</td><td>No </td></tr>\n",
       "\t<tr><th scope=row>2</th><td>5575-GNVDE</td><td>1</td><td>0</td><td>No </td><td>No</td><td>34</td><td>Yes</td><td>No              </td><td>DSL        </td><td>Yes</td><td>No </td><td>Yes</td><td>No </td><td>No </td><td>No </td><td>One year      </td><td>No </td><td>Mailed check             </td><td>56.95</td><td>1889.50</td><td>No </td></tr>\n",
       "\t<tr><th scope=row>3</th><td>3668-QPYBK</td><td>1</td><td>0</td><td>No </td><td>No</td><td> 2</td><td>Yes</td><td>No              </td><td>DSL        </td><td>Yes</td><td>Yes</td><td>No </td><td>No </td><td>No </td><td>No </td><td>Month-to-month</td><td>Yes</td><td>Mailed check             </td><td>53.85</td><td> 108.15</td><td>Yes</td></tr>\n",
       "\t<tr><th scope=row>4</th><td>7795-CFOCW</td><td>1</td><td>0</td><td>No </td><td>No</td><td>45</td><td>No </td><td>No phone service</td><td>DSL        </td><td>Yes</td><td>No </td><td>Yes</td><td>Yes</td><td>No </td><td>No </td><td>One year      </td><td>No </td><td>Bank transfer (automatic)</td><td>42.30</td><td>1840.75</td><td>No </td></tr>\n",
       "\t<tr><th scope=row>5</th><td>9237-HQITU</td><td>0</td><td>0</td><td>No </td><td>No</td><td> 2</td><td>Yes</td><td>No              </td><td>Fiber optic</td><td>No </td><td>No </td><td>No </td><td>No </td><td>No </td><td>No </td><td>Month-to-month</td><td>Yes</td><td>Electronic check         </td><td>70.70</td><td> 151.65</td><td>Yes</td></tr>\n",
       "\t<tr><th scope=row>6</th><td>9305-CDSKC</td><td>0</td><td>0</td><td>No </td><td>No</td><td> 8</td><td>Yes</td><td>Yes             </td><td>Fiber optic</td><td>No </td><td>No </td><td>Yes</td><td>No </td><td>Yes</td><td>Yes</td><td>Month-to-month</td><td>Yes</td><td>Electronic check         </td><td>99.65</td><td> 820.50</td><td>Yes</td></tr>\n",
       "</tbody>\n",
       "</table>\n"
      ],
      "text/latex": [
       "A data.frame: 6 × 21\n",
       "\\begin{tabular}{r|lllllllllllllllllllll}\n",
       "  & customerID & gender & SeniorCitizen & Partner & Dependents & tenure & PhoneService & MultipleLines & InternetService & OnlineSecurity & OnlineBackup & DeviceProtection & TechSupport & StreamingTV & StreamingMovies & Contract & PaperlessBilling & PaymentMethod & MonthlyCharges & TotalCharges & Churn\\\\\n",
       "  & <chr> & <dbl> & <int> & <chr> & <chr> & <int> & <chr> & <fct> & <fct> & <chr> & <chr> & <chr> & <chr> & <chr> & <chr> & <fct> & <chr> & <fct> & <dbl> & <dbl> & <chr>\\\\\n",
       "\\hline\n",
       "\t1 & 7590-VHVEG & 0 & 0 & Yes & No &  1 & No  & No phone service & DSL         & No  & Yes & No  & No  & No  & No  & Month-to-month & Yes & Electronic check          & 29.85 &   29.85 & No \\\\\n",
       "\t2 & 5575-GNVDE & 1 & 0 & No  & No & 34 & Yes & No               & DSL         & Yes & No  & Yes & No  & No  & No  & One year       & No  & Mailed check              & 56.95 & 1889.50 & No \\\\\n",
       "\t3 & 3668-QPYBK & 1 & 0 & No  & No &  2 & Yes & No               & DSL         & Yes & Yes & No  & No  & No  & No  & Month-to-month & Yes & Mailed check              & 53.85 &  108.15 & Yes\\\\\n",
       "\t4 & 7795-CFOCW & 1 & 0 & No  & No & 45 & No  & No phone service & DSL         & Yes & No  & Yes & Yes & No  & No  & One year       & No  & Bank transfer (automatic) & 42.30 & 1840.75 & No \\\\\n",
       "\t5 & 9237-HQITU & 0 & 0 & No  & No &  2 & Yes & No               & Fiber optic & No  & No  & No  & No  & No  & No  & Month-to-month & Yes & Electronic check          & 70.70 &  151.65 & Yes\\\\\n",
       "\t6 & 9305-CDSKC & 0 & 0 & No  & No &  8 & Yes & Yes              & Fiber optic & No  & No  & Yes & No  & Yes & Yes & Month-to-month & Yes & Electronic check          & 99.65 &  820.50 & Yes\\\\\n",
       "\\end{tabular}\n"
      ],
      "text/markdown": [
       "\n",
       "A data.frame: 6 × 21\n",
       "\n",
       "| <!--/--> | customerID &lt;chr&gt; | gender &lt;dbl&gt; | SeniorCitizen &lt;int&gt; | Partner &lt;chr&gt; | Dependents &lt;chr&gt; | tenure &lt;int&gt; | PhoneService &lt;chr&gt; | MultipleLines &lt;fct&gt; | InternetService &lt;fct&gt; | OnlineSecurity &lt;chr&gt; | OnlineBackup &lt;chr&gt; | DeviceProtection &lt;chr&gt; | TechSupport &lt;chr&gt; | StreamingTV &lt;chr&gt; | StreamingMovies &lt;chr&gt; | Contract &lt;fct&gt; | PaperlessBilling &lt;chr&gt; | PaymentMethod &lt;fct&gt; | MonthlyCharges &lt;dbl&gt; | TotalCharges &lt;dbl&gt; | Churn &lt;chr&gt; |\n",
       "|---|---|---|---|---|---|---|---|---|---|---|---|---|---|---|---|---|---|---|---|---|---|\n",
       "| 1 | 7590-VHVEG | 0 | 0 | Yes | No |  1 | No  | No phone service | DSL         | No  | Yes | No  | No  | No  | No  | Month-to-month | Yes | Electronic check          | 29.85 |   29.85 | No  |\n",
       "| 2 | 5575-GNVDE | 1 | 0 | No  | No | 34 | Yes | No               | DSL         | Yes | No  | Yes | No  | No  | No  | One year       | No  | Mailed check              | 56.95 | 1889.50 | No  |\n",
       "| 3 | 3668-QPYBK | 1 | 0 | No  | No |  2 | Yes | No               | DSL         | Yes | Yes | No  | No  | No  | No  | Month-to-month | Yes | Mailed check              | 53.85 |  108.15 | Yes |\n",
       "| 4 | 7795-CFOCW | 1 | 0 | No  | No | 45 | No  | No phone service | DSL         | Yes | No  | Yes | Yes | No  | No  | One year       | No  | Bank transfer (automatic) | 42.30 | 1840.75 | No  |\n",
       "| 5 | 9237-HQITU | 0 | 0 | No  | No |  2 | Yes | No               | Fiber optic | No  | No  | No  | No  | No  | No  | Month-to-month | Yes | Electronic check          | 70.70 |  151.65 | Yes |\n",
       "| 6 | 9305-CDSKC | 0 | 0 | No  | No |  8 | Yes | Yes              | Fiber optic | No  | No  | Yes | No  | Yes | Yes | Month-to-month | Yes | Electronic check          | 99.65 |  820.50 | Yes |\n",
       "\n"
      ],
      "text/plain": [
       "  customerID gender SeniorCitizen Partner Dependents tenure PhoneService\n",
       "1 7590-VHVEG 0      0             Yes     No          1     No          \n",
       "2 5575-GNVDE 1      0             No      No         34     Yes         \n",
       "3 3668-QPYBK 1      0             No      No          2     Yes         \n",
       "4 7795-CFOCW 1      0             No      No         45     No          \n",
       "5 9237-HQITU 0      0             No      No          2     Yes         \n",
       "6 9305-CDSKC 0      0             No      No          8     Yes         \n",
       "  MultipleLines    InternetService OnlineSecurity OnlineBackup DeviceProtection\n",
       "1 No phone service DSL             No             Yes          No              \n",
       "2 No               DSL             Yes            No           Yes             \n",
       "3 No               DSL             Yes            Yes          No              \n",
       "4 No phone service DSL             Yes            No           Yes             \n",
       "5 No               Fiber optic     No             No           No              \n",
       "6 Yes              Fiber optic     No             No           Yes             \n",
       "  TechSupport StreamingTV StreamingMovies Contract       PaperlessBilling\n",
       "1 No          No          No              Month-to-month Yes             \n",
       "2 No          No          No              One year       No              \n",
       "3 No          No          No              Month-to-month Yes             \n",
       "4 Yes         No          No              One year       No              \n",
       "5 No          No          No              Month-to-month Yes             \n",
       "6 No          Yes         Yes             Month-to-month Yes             \n",
       "  PaymentMethod             MonthlyCharges TotalCharges Churn\n",
       "1 Electronic check          29.85            29.85      No   \n",
       "2 Mailed check              56.95          1889.50      No   \n",
       "3 Mailed check              53.85           108.15      Yes  \n",
       "4 Bank transfer (automatic) 42.30          1840.75      No   \n",
       "5 Electronic check          70.70           151.65      Yes  \n",
       "6 Electronic check          99.65           820.50      Yes  "
      ]
     },
     "metadata": {},
     "output_type": "display_data"
    }
   ],
   "source": [
    "head(df)"
   ]
  },
  {
   "cell_type": "code",
   "execution_count": 35,
   "id": "f0d64492-970e-4e89-a582-2922c076edc6",
   "metadata": {},
   "outputs": [],
   "source": [
    "df$Partner <- ifelse(test=df$Partner == \"Yes\", yes = 1, no = 0)"
   ]
  },
  {
   "cell_type": "code",
   "execution_count": 37,
   "id": "b4109a84-1253-42a2-a868-a23157fcd2d3",
   "metadata": {},
   "outputs": [],
   "source": [
    "df$Dependents <- ifelse(test=df$Dependents == \"Yes\", yes = 1, no = 0)"
   ]
  },
  {
   "cell_type": "code",
   "execution_count": 39,
   "id": "7f7d2df6-0d33-400b-bcc1-469c9c0a530d",
   "metadata": {},
   "outputs": [],
   "source": [
    "df$PhoneService <- ifelse(test=df$PhoneService == \"Yes\", yes = 1, no = 0)"
   ]
  },
  {
   "cell_type": "code",
   "execution_count": 41,
   "id": "e2e67a22-5a24-428c-a10f-3d050c5e688e",
   "metadata": {},
   "outputs": [],
   "source": [
    "df$OnlineSecurity <- ifelse(test=df$OnlineSecurity == \"Yes\", yes = 1, no = 0)"
   ]
  },
  {
   "cell_type": "code",
   "execution_count": 43,
   "id": "d742d082-13ee-4731-93fe-a788f2f5a23a",
   "metadata": {},
   "outputs": [],
   "source": [
    "df$OnlineBackup <- ifelse(test=df$OnlineBackup == \"Yes\", yes = 1, no = 0)"
   ]
  },
  {
   "cell_type": "code",
   "execution_count": 45,
   "id": "6bfd4a64-1e53-4a3d-9572-3fd2bc1b333e",
   "metadata": {},
   "outputs": [],
   "source": [
    "df$DeviceProtection <- ifelse(test=df$DeviceProtection == \"Yes\", yes = 1, no = 0)"
   ]
  },
  {
   "cell_type": "code",
   "execution_count": 47,
   "id": "07df2f4e-7176-49e0-80c9-4c7f1a2584d8",
   "metadata": {},
   "outputs": [],
   "source": [
    "df$TechSupport <- ifelse(test=df$TechSupport == \"Yes\", yes = 1, no = 0)"
   ]
  },
  {
   "cell_type": "code",
   "execution_count": 49,
   "id": "efa8fcb0-2bbe-4f89-9951-ce2380753451",
   "metadata": {},
   "outputs": [],
   "source": [
    "df$StreamingTV <- ifelse(test=df$StreamingTV == \"Yes\", yes = 1, no = 0)"
   ]
  },
  {
   "cell_type": "code",
   "execution_count": 51,
   "id": "fa5f66aa-38b9-426c-98dd-f1a612676a2e",
   "metadata": {},
   "outputs": [],
   "source": [
    "df$StreamingMovies <- ifelse(test=df$StreamingMovies == \"Yes\", yes = 1, no = 0)"
   ]
  },
  {
   "cell_type": "code",
   "execution_count": 53,
   "id": "3d9a4bc6-840c-4046-8649-fb1d70af2cb9",
   "metadata": {},
   "outputs": [],
   "source": [
    "df$PaperlessBilling <- ifelse(test=df$PaperlessBilling == \"Yes\", yes = 1, no = 0)"
   ]
  },
  {
   "cell_type": "code",
   "execution_count": 55,
   "id": "653e2162-7fd0-4169-9498-66b9d36124f4",
   "metadata": {},
   "outputs": [],
   "source": [
    "df$Churn <- ifelse(test=df$Churn == \"Yes\", yes = 1, no = 0)"
   ]
  },
  {
   "cell_type": "code",
   "execution_count": 57,
   "id": "2bf23689-bb02-4a1d-9982-2c7e02680473",
   "metadata": {},
   "outputs": [
    {
     "name": "stdout",
     "output_type": "stream",
     "text": [
      "'data.frame':\t7043 obs. of  21 variables:\n",
      " $ customerID      : chr  \"7590-VHVEG\" \"5575-GNVDE\" \"3668-QPYBK\" \"7795-CFOCW\" ...\n",
      " $ gender          : num  0 1 1 1 0 0 1 0 0 1 ...\n",
      " $ SeniorCitizen   : int  0 0 0 0 0 0 0 0 0 0 ...\n",
      " $ Partner         : num  1 0 0 0 0 0 0 0 1 0 ...\n",
      " $ Dependents      : num  0 0 0 0 0 0 1 0 0 1 ...\n",
      " $ tenure          : int  1 34 2 45 2 8 22 10 28 62 ...\n",
      " $ PhoneService    : num  0 1 1 0 1 1 1 0 1 1 ...\n",
      " $ MultipleLines   : Factor w/ 3 levels \"No\",\"No phone service\",..: 2 1 1 2 1 3 3 2 3 1 ...\n",
      " $ InternetService : Factor w/ 3 levels \"DSL\",\"Fiber optic\",..: 1 1 1 1 2 2 2 1 2 1 ...\n",
      " $ OnlineSecurity  : num  0 1 1 1 0 0 0 1 0 1 ...\n",
      " $ OnlineBackup    : num  1 0 1 0 0 0 1 0 0 1 ...\n",
      " $ DeviceProtection: num  0 1 0 1 0 1 0 0 1 0 ...\n",
      " $ TechSupport     : num  0 0 0 1 0 0 0 0 1 0 ...\n",
      " $ StreamingTV     : num  0 0 0 0 0 1 1 0 1 0 ...\n",
      " $ StreamingMovies : num  0 0 0 0 0 1 0 0 1 0 ...\n",
      " $ Contract        : Factor w/ 3 levels \"Month-to-month\",..: 1 2 1 2 1 1 1 1 1 2 ...\n",
      " $ PaperlessBilling: num  1 0 1 0 1 1 1 0 1 0 ...\n",
      " $ PaymentMethod   : Factor w/ 4 levels \"Bank transfer (automatic)\",..: 3 4 4 1 3 3 2 4 3 1 ...\n",
      " $ MonthlyCharges  : num  29.9 57 53.9 42.3 70.7 ...\n",
      " $ TotalCharges    : num  29.9 1889.5 108.2 1840.8 151.7 ...\n",
      " $ Churn           : num  0 0 1 0 1 1 0 0 1 0 ...\n"
     ]
    }
   ],
   "source": [
    "str(df)"
   ]
  },
  {
   "cell_type": "markdown",
   "id": "1c246be8-275c-4f0a-b8b7-a0e6fde4d0d0",
   "metadata": {},
   "source": [
    "### Creating Binary Values for Continuous Data\n",
    "\n",
    "To do turn continuous variables into binary values 1 and 0, the data must be split into above or equal to the median (1) or below the median (0) "
   ]
  },
  {
   "cell_type": "markdown",
   "id": "a5cf81ea-634b-4192-97f2-9379df6ed3a5",
   "metadata": {},
   "source": [
    "#### df['tenure']"
   ]
  },
  {
   "cell_type": "code",
   "execution_count": 59,
   "id": "58123457-9fb8-483b-af57-3b12e86bf37a",
   "metadata": {},
   "outputs": [
    {
     "data": {
      "text/html": [
       "29"
      ],
      "text/latex": [
       "29"
      ],
      "text/markdown": [
       "29"
      ],
      "text/plain": [
       "[1] 29"
      ]
     },
     "metadata": {},
     "output_type": "display_data"
    }
   ],
   "source": [
    "median(df$tenure)"
   ]
  },
  {
   "cell_type": "code",
   "execution_count": 61,
   "id": "7ee3cd3a-dd29-464f-b6ff-cf42f90333e4",
   "metadata": {},
   "outputs": [],
   "source": [
    "df$tenure <- ifelse(test=df$tenure >= median(df$tenure), yes = 1, no = 0)"
   ]
  },
  {
   "cell_type": "code",
   "execution_count": 63,
   "id": "2284e489-7192-421d-acd9-6ce4c61467a5",
   "metadata": {},
   "outputs": [
    {
     "data": {
      "text/html": [
       "<style>\n",
       ".list-inline {list-style: none; margin:0; padding: 0}\n",
       ".list-inline>li {display: inline-block}\n",
       ".list-inline>li:not(:last-child)::after {content: \"\\00b7\"; padding: 0 .5ex}\n",
       "</style>\n",
       "<ol class=list-inline><li>0</li><li>1</li><li>0</li><li>1</li><li>0</li><li>0</li></ol>\n"
      ],
      "text/latex": [
       "\\begin{enumerate*}\n",
       "\\item 0\n",
       "\\item 1\n",
       "\\item 0\n",
       "\\item 1\n",
       "\\item 0\n",
       "\\item 0\n",
       "\\end{enumerate*}\n"
      ],
      "text/markdown": [
       "1. 0\n",
       "2. 1\n",
       "3. 0\n",
       "4. 1\n",
       "5. 0\n",
       "6. 0\n",
       "\n",
       "\n"
      ],
      "text/plain": [
       "[1] 0 1 0 1 0 0"
      ]
     },
     "metadata": {},
     "output_type": "display_data"
    }
   ],
   "source": [
    "head(df$tenure)"
   ]
  },
  {
   "cell_type": "markdown",
   "id": "5b3cae6c-338a-4dbf-9b35-ead153fac757",
   "metadata": {},
   "source": [
    "#### df['MonthlyCharges']"
   ]
  },
  {
   "cell_type": "code",
   "execution_count": 65,
   "id": "adc9b90e-8269-4a54-a3cd-288e29e043f1",
   "metadata": {},
   "outputs": [
    {
     "data": {
      "text/html": [
       "70.35"
      ],
      "text/latex": [
       "70.35"
      ],
      "text/markdown": [
       "70.35"
      ],
      "text/plain": [
       "[1] 70.35"
      ]
     },
     "metadata": {},
     "output_type": "display_data"
    }
   ],
   "source": [
    "median(df$MonthlyCharges)"
   ]
  },
  {
   "cell_type": "code",
   "execution_count": 67,
   "id": "88ccf689-db29-43e5-8786-c63cfcf64a84",
   "metadata": {},
   "outputs": [],
   "source": [
    "df$MonthlyCharges <- ifelse(test=df$MonthlyCharges >= median(df$MonthlyCharges), yes = 1, no = 0)"
   ]
  },
  {
   "cell_type": "code",
   "execution_count": 69,
   "id": "e38d1008-1eab-4cac-8343-c60cd92d2e02",
   "metadata": {},
   "outputs": [
    {
     "data": {
      "text/html": [
       "<style>\n",
       ".list-inline {list-style: none; margin:0; padding: 0}\n",
       ".list-inline>li {display: inline-block}\n",
       ".list-inline>li:not(:last-child)::after {content: \"\\00b7\"; padding: 0 .5ex}\n",
       "</style>\n",
       "<ol class=list-inline><li>0</li><li>0</li><li>0</li><li>0</li><li>1</li><li>1</li></ol>\n"
      ],
      "text/latex": [
       "\\begin{enumerate*}\n",
       "\\item 0\n",
       "\\item 0\n",
       "\\item 0\n",
       "\\item 0\n",
       "\\item 1\n",
       "\\item 1\n",
       "\\end{enumerate*}\n"
      ],
      "text/markdown": [
       "1. 0\n",
       "2. 0\n",
       "3. 0\n",
       "4. 0\n",
       "5. 1\n",
       "6. 1\n",
       "\n",
       "\n"
      ],
      "text/plain": [
       "[1] 0 0 0 0 1 1"
      ]
     },
     "metadata": {},
     "output_type": "display_data"
    }
   ],
   "source": [
    "head(df$MonthlyCharges)"
   ]
  },
  {
   "cell_type": "markdown",
   "id": "802c7ee6-c036-4675-8550-6680b149fb9d",
   "metadata": {},
   "source": [
    "### 'TotalCharges' Column Reasoning"
   ]
  },
  {
   "cell_type": "markdown",
   "id": "7eda3616-036b-42d3-877d-0c93fcfbf53e",
   "metadata": {},
   "source": [
    "'TotalCharges' is more or less derived from a combination of 'tenure' and 'MonthlyCharges'. Because of this, including 'TotalCharges' would make the data redundant and can lead to interpretive issues and potential overfitting.\n",
    "\n",
    "That being said, 'TotalCharges' column is going to not being used in the models."
   ]
  },
  {
   "cell_type": "markdown",
   "id": "ea1dd855-097d-4c39-95a0-76fb7428be95",
   "metadata": {},
   "source": [
    "### Final Touches"
   ]
  },
  {
   "cell_type": "markdown",
   "id": "245f6459-0345-447b-8726-5afef2c282de",
   "metadata": {},
   "source": [
    "Just some finishing touches to the dataset. While not necessary, all of the binary values should be the same type, therefore SeniorCitizen will be converted from integer to numeric."
   ]
  },
  {
   "cell_type": "code",
   "execution_count": 71,
   "id": "ebdfe728-72d0-43b5-8013-c39a4d34d948",
   "metadata": {},
   "outputs": [],
   "source": [
    "df$SeniorCitizen <- as.numeric(df$SeniorCitizen)"
   ]
  },
  {
   "cell_type": "code",
   "execution_count": 73,
   "id": "3e0e940e-617a-4475-976f-efc932151c74",
   "metadata": {},
   "outputs": [
    {
     "name": "stdout",
     "output_type": "stream",
     "text": [
      "'data.frame':\t7043 obs. of  21 variables:\n",
      " $ customerID      : chr  \"7590-VHVEG\" \"5575-GNVDE\" \"3668-QPYBK\" \"7795-CFOCW\" ...\n",
      " $ gender          : num  0 1 1 1 0 0 1 0 0 1 ...\n",
      " $ SeniorCitizen   : num  0 0 0 0 0 0 0 0 0 0 ...\n",
      " $ Partner         : num  1 0 0 0 0 0 0 0 1 0 ...\n",
      " $ Dependents      : num  0 0 0 0 0 0 1 0 0 1 ...\n",
      " $ tenure          : num  0 1 0 1 0 0 0 0 0 1 ...\n",
      " $ PhoneService    : num  0 1 1 0 1 1 1 0 1 1 ...\n",
      " $ MultipleLines   : Factor w/ 3 levels \"No\",\"No phone service\",..: 2 1 1 2 1 3 3 2 3 1 ...\n",
      " $ InternetService : Factor w/ 3 levels \"DSL\",\"Fiber optic\",..: 1 1 1 1 2 2 2 1 2 1 ...\n",
      " $ OnlineSecurity  : num  0 1 1 1 0 0 0 1 0 1 ...\n",
      " $ OnlineBackup    : num  1 0 1 0 0 0 1 0 0 1 ...\n",
      " $ DeviceProtection: num  0 1 0 1 0 1 0 0 1 0 ...\n",
      " $ TechSupport     : num  0 0 0 1 0 0 0 0 1 0 ...\n",
      " $ StreamingTV     : num  0 0 0 0 0 1 1 0 1 0 ...\n",
      " $ StreamingMovies : num  0 0 0 0 0 1 0 0 1 0 ...\n",
      " $ Contract        : Factor w/ 3 levels \"Month-to-month\",..: 1 2 1 2 1 1 1 1 1 2 ...\n",
      " $ PaperlessBilling: num  1 0 1 0 1 1 1 0 1 0 ...\n",
      " $ PaymentMethod   : Factor w/ 4 levels \"Bank transfer (automatic)\",..: 3 4 4 1 3 3 2 4 3 1 ...\n",
      " $ MonthlyCharges  : num  0 0 0 0 1 1 1 0 1 0 ...\n",
      " $ TotalCharges    : num  29.9 1889.5 108.2 1840.8 151.7 ...\n",
      " $ Churn           : num  0 0 1 0 1 1 0 0 1 0 ...\n"
     ]
    }
   ],
   "source": [
    "str(df)"
   ]
  },
  {
   "cell_type": "markdown",
   "id": "3067aef1-feff-4a21-84e1-6e558f61b5b5",
   "metadata": {},
   "source": [
    "# Model Setup"
   ]
  },
  {
   "cell_type": "markdown",
   "id": "0c71bf3c-ac64-4e4d-a05a-aa52bbe0f06b",
   "metadata": {},
   "source": [
    "Because our dataset is now entirely binary there is no need to normalize or scale our data. However before running the model, the extra index column (X), customerID, and TotalCharges need to be removed. Our target feature needs to be converted into a factor so it can be treated as the classification feature."
   ]
  },
  {
   "cell_type": "code",
   "execution_count": 75,
   "id": "189290e0-d2fb-4a86-a756-3876f1b3d816",
   "metadata": {},
   "outputs": [],
   "source": [
    "df <- subset.data.frame(df, select = -c(customerID, TotalCharges, PhoneService))\n",
    "df$Churn <- as.factor(df$Churn)"
   ]
  },
  {
   "cell_type": "code",
   "execution_count": 77,
   "id": "9fd459a7-0be2-4613-b5e7-6d2b5f7cee68",
   "metadata": {},
   "outputs": [
    {
     "name": "stdout",
     "output_type": "stream",
     "text": [
      "'data.frame':\t7043 obs. of  18 variables:\n",
      " $ gender          : num  0 1 1 1 0 0 1 0 0 1 ...\n",
      " $ SeniorCitizen   : num  0 0 0 0 0 0 0 0 0 0 ...\n",
      " $ Partner         : num  1 0 0 0 0 0 0 0 1 0 ...\n",
      " $ Dependents      : num  0 0 0 0 0 0 1 0 0 1 ...\n",
      " $ tenure          : num  0 1 0 1 0 0 0 0 0 1 ...\n",
      " $ MultipleLines   : Factor w/ 3 levels \"No\",\"No phone service\",..: 2 1 1 2 1 3 3 2 3 1 ...\n",
      " $ InternetService : Factor w/ 3 levels \"DSL\",\"Fiber optic\",..: 1 1 1 1 2 2 2 1 2 1 ...\n",
      " $ OnlineSecurity  : num  0 1 1 1 0 0 0 1 0 1 ...\n",
      " $ OnlineBackup    : num  1 0 1 0 0 0 1 0 0 1 ...\n",
      " $ DeviceProtection: num  0 1 0 1 0 1 0 0 1 0 ...\n",
      " $ TechSupport     : num  0 0 0 1 0 0 0 0 1 0 ...\n",
      " $ StreamingTV     : num  0 0 0 0 0 1 1 0 1 0 ...\n",
      " $ StreamingMovies : num  0 0 0 0 0 1 0 0 1 0 ...\n",
      " $ Contract        : Factor w/ 3 levels \"Month-to-month\",..: 1 2 1 2 1 1 1 1 1 2 ...\n",
      " $ PaperlessBilling: num  1 0 1 0 1 1 1 0 1 0 ...\n",
      " $ PaymentMethod   : Factor w/ 4 levels \"Bank transfer (automatic)\",..: 3 4 4 1 3 3 2 4 3 1 ...\n",
      " $ MonthlyCharges  : num  0 0 0 0 1 1 1 0 1 0 ...\n",
      " $ Churn           : Factor w/ 2 levels \"0\",\"1\": 1 1 2 1 2 2 1 1 2 1 ...\n"
     ]
    }
   ],
   "source": [
    "str(df)"
   ]
  },
  {
   "cell_type": "code",
   "execution_count": 79,
   "id": "190f8b8e-6c55-4924-a314-8b6fbc982350",
   "metadata": {},
   "outputs": [],
   "source": [
    "#Splitting the data into train and test\n",
    "set.seed(421)\n",
    "split <- initial_split(df, prop = 0.8, strata = Churn)\n",
    "train <- split %>% \n",
    "  training()\n",
    "test <- split %>% \n",
    "  testing()"
   ]
  },
  {
   "cell_type": "markdown",
   "id": "2b44ba17-1b68-4f6a-a75c-4cae01a1e5fd",
   "metadata": {},
   "source": [
    "# Logistic Regression"
   ]
  },
  {
   "cell_type": "markdown",
   "id": "db0ec087-f588-499c-b2a8-138cecfc6f7b",
   "metadata": {},
   "source": [
    "The logistic regression model is a simple classification that looks specifically at binary values (1 and 0). It models the logrithmic odds probability of the target value equaling 1, or in this case if customer will churn."
   ]
  },
  {
   "cell_type": "code",
   "execution_count": 81,
   "id": "ca0c3f2b-29e4-47db-99ca-3201b5e14e05",
   "metadata": {},
   "outputs": [],
   "source": [
    "#train the logistic regression model\n",
    "model <- logistic_reg(mixture = double(1), penalty = double(1)) %>%\n",
    "  set_engine(\"glmnet\") %>%\n",
    "  set_mode(\"classification\") %>%\n",
    "  fit(Churn ~ ., data = train)"
   ]
  },
  {
   "cell_type": "code",
   "execution_count": 83,
   "id": "0997cbca-9d98-42f5-9fd4-c4f7b7aa2c70",
   "metadata": {},
   "outputs": [
    {
     "name": "stderr",
     "output_type": "stream",
     "text": [
      "\n",
      "Attaching package: ‘Matrix’\n",
      "\n",
      "\n",
      "The following objects are masked from ‘package:tidyr’:\n",
      "\n",
      "    expand, pack, unpack\n",
      "\n",
      "\n",
      "Loaded glmnet 4.1-10\n",
      "\n"
     ]
    },
    {
     "data": {
      "text/html": [
       "<table class=\"dataframe\">\n",
       "<caption>A tibble: 23 × 3</caption>\n",
       "<thead>\n",
       "\t<tr><th scope=col>term</th><th scope=col>estimate</th><th scope=col>penalty</th></tr>\n",
       "\t<tr><th scope=col>&lt;chr&gt;</th><th scope=col>&lt;dbl&gt;</th><th scope=col>&lt;dbl&gt;</th></tr>\n",
       "</thead>\n",
       "<tbody>\n",
       "\t<tr><td>(Intercept)                         </td><td>-0.88530065</td><td>0</td></tr>\n",
       "\t<tr><td>gender                              </td><td>-0.05434862</td><td>0</td></tr>\n",
       "\t<tr><td>SeniorCitizen                       </td><td> 0.26938658</td><td>0</td></tr>\n",
       "\t<tr><td>Partner                             </td><td>-0.14143973</td><td>0</td></tr>\n",
       "\t<tr><td>Dependents                          </td><td>-0.11054091</td><td>0</td></tr>\n",
       "\t<tr><td>tenure                              </td><td>-0.88759971</td><td>0</td></tr>\n",
       "\t<tr><td>MultipleLinesNo phone service       </td><td> 0.45195036</td><td>0</td></tr>\n",
       "\t<tr><td>MultipleLinesYes                    </td><td> 0.19430302</td><td>0</td></tr>\n",
       "\t<tr><td>InternetServiceFiber optic          </td><td> 0.70136995</td><td>0</td></tr>\n",
       "\t<tr><td>InternetServiceNo                   </td><td>-0.72868083</td><td>0</td></tr>\n",
       "\t<tr><td>OnlineSecurity                      </td><td>-0.42387003</td><td>0</td></tr>\n",
       "\t<tr><td>OnlineBackup                        </td><td>-0.22259005</td><td>0</td></tr>\n",
       "\t<tr><td>DeviceProtection                    </td><td>-0.11673973</td><td>0</td></tr>\n",
       "\t<tr><td>TechSupport                         </td><td>-0.42380882</td><td>0</td></tr>\n",
       "\t<tr><td>StreamingTV                         </td><td> 0.21301998</td><td>0</td></tr>\n",
       "\t<tr><td>StreamingMovies                     </td><td> 0.17736430</td><td>0</td></tr>\n",
       "\t<tr><td>ContractOne year                    </td><td>-0.76755615</td><td>0</td></tr>\n",
       "\t<tr><td>ContractTwo year                    </td><td>-1.38549196</td><td>0</td></tr>\n",
       "\t<tr><td>PaperlessBilling                    </td><td> 0.34750285</td><td>0</td></tr>\n",
       "\t<tr><td>PaymentMethodCredit card (automatic)</td><td>-0.12513560</td><td>0</td></tr>\n",
       "\t<tr><td>PaymentMethodElectronic check       </td><td> 0.39266713</td><td>0</td></tr>\n",
       "\t<tr><td>PaymentMethodMailed check           </td><td> 0.02909969</td><td>0</td></tr>\n",
       "\t<tr><td>MonthlyCharges                      </td><td> 0.09436004</td><td>0</td></tr>\n",
       "</tbody>\n",
       "</table>\n"
      ],
      "text/latex": [
       "A tibble: 23 × 3\n",
       "\\begin{tabular}{lll}\n",
       " term & estimate & penalty\\\\\n",
       " <chr> & <dbl> & <dbl>\\\\\n",
       "\\hline\n",
       "\t (Intercept)                          & -0.88530065 & 0\\\\\n",
       "\t gender                               & -0.05434862 & 0\\\\\n",
       "\t SeniorCitizen                        &  0.26938658 & 0\\\\\n",
       "\t Partner                              & -0.14143973 & 0\\\\\n",
       "\t Dependents                           & -0.11054091 & 0\\\\\n",
       "\t tenure                               & -0.88759971 & 0\\\\\n",
       "\t MultipleLinesNo phone service        &  0.45195036 & 0\\\\\n",
       "\t MultipleLinesYes                     &  0.19430302 & 0\\\\\n",
       "\t InternetServiceFiber optic           &  0.70136995 & 0\\\\\n",
       "\t InternetServiceNo                    & -0.72868083 & 0\\\\\n",
       "\t OnlineSecurity                       & -0.42387003 & 0\\\\\n",
       "\t OnlineBackup                         & -0.22259005 & 0\\\\\n",
       "\t DeviceProtection                     & -0.11673973 & 0\\\\\n",
       "\t TechSupport                          & -0.42380882 & 0\\\\\n",
       "\t StreamingTV                          &  0.21301998 & 0\\\\\n",
       "\t StreamingMovies                      &  0.17736430 & 0\\\\\n",
       "\t ContractOne year                     & -0.76755615 & 0\\\\\n",
       "\t ContractTwo year                     & -1.38549196 & 0\\\\\n",
       "\t PaperlessBilling                     &  0.34750285 & 0\\\\\n",
       "\t PaymentMethodCredit card (automatic) & -0.12513560 & 0\\\\\n",
       "\t PaymentMethodElectronic check        &  0.39266713 & 0\\\\\n",
       "\t PaymentMethodMailed check            &  0.02909969 & 0\\\\\n",
       "\t MonthlyCharges                       &  0.09436004 & 0\\\\\n",
       "\\end{tabular}\n"
      ],
      "text/markdown": [
       "\n",
       "A tibble: 23 × 3\n",
       "\n",
       "| term &lt;chr&gt; | estimate &lt;dbl&gt; | penalty &lt;dbl&gt; |\n",
       "|---|---|---|\n",
       "| (Intercept)                          | -0.88530065 | 0 |\n",
       "| gender                               | -0.05434862 | 0 |\n",
       "| SeniorCitizen                        |  0.26938658 | 0 |\n",
       "| Partner                              | -0.14143973 | 0 |\n",
       "| Dependents                           | -0.11054091 | 0 |\n",
       "| tenure                               | -0.88759971 | 0 |\n",
       "| MultipleLinesNo phone service        |  0.45195036 | 0 |\n",
       "| MultipleLinesYes                     |  0.19430302 | 0 |\n",
       "| InternetServiceFiber optic           |  0.70136995 | 0 |\n",
       "| InternetServiceNo                    | -0.72868083 | 0 |\n",
       "| OnlineSecurity                       | -0.42387003 | 0 |\n",
       "| OnlineBackup                         | -0.22259005 | 0 |\n",
       "| DeviceProtection                     | -0.11673973 | 0 |\n",
       "| TechSupport                          | -0.42380882 | 0 |\n",
       "| StreamingTV                          |  0.21301998 | 0 |\n",
       "| StreamingMovies                      |  0.17736430 | 0 |\n",
       "| ContractOne year                     | -0.76755615 | 0 |\n",
       "| ContractTwo year                     | -1.38549196 | 0 |\n",
       "| PaperlessBilling                     |  0.34750285 | 0 |\n",
       "| PaymentMethodCredit card (automatic) | -0.12513560 | 0 |\n",
       "| PaymentMethodElectronic check        |  0.39266713 | 0 |\n",
       "| PaymentMethodMailed check            |  0.02909969 | 0 |\n",
       "| MonthlyCharges                       |  0.09436004 | 0 |\n",
       "\n"
      ],
      "text/plain": [
       "   term                                 estimate    penalty\n",
       "1  (Intercept)                          -0.88530065 0      \n",
       "2  gender                               -0.05434862 0      \n",
       "3  SeniorCitizen                         0.26938658 0      \n",
       "4  Partner                              -0.14143973 0      \n",
       "5  Dependents                           -0.11054091 0      \n",
       "6  tenure                               -0.88759971 0      \n",
       "7  MultipleLinesNo phone service         0.45195036 0      \n",
       "8  MultipleLinesYes                      0.19430302 0      \n",
       "9  InternetServiceFiber optic            0.70136995 0      \n",
       "10 InternetServiceNo                    -0.72868083 0      \n",
       "11 OnlineSecurity                       -0.42387003 0      \n",
       "12 OnlineBackup                         -0.22259005 0      \n",
       "13 DeviceProtection                     -0.11673973 0      \n",
       "14 TechSupport                          -0.42380882 0      \n",
       "15 StreamingTV                           0.21301998 0      \n",
       "16 StreamingMovies                       0.17736430 0      \n",
       "17 ContractOne year                     -0.76755615 0      \n",
       "18 ContractTwo year                     -1.38549196 0      \n",
       "19 PaperlessBilling                      0.34750285 0      \n",
       "20 PaymentMethodCredit card (automatic) -0.12513560 0      \n",
       "21 PaymentMethodElectronic check         0.39266713 0      \n",
       "22 PaymentMethodMailed check             0.02909969 0      \n",
       "23 MonthlyCharges                        0.09436004 0      "
      ]
     },
     "metadata": {},
     "output_type": "display_data"
    }
   ],
   "source": [
    "model <- logistic_reg(mixture = double(1), penalty = double(1)) %>%\n",
    "  set_engine(\"glmnet\") %>%\n",
    "  set_mode(\"classification\") %>%\n",
    "  fit(Churn ~ ., data = train)\n",
    "\n",
    "tidy(model)"
   ]
  },
  {
   "cell_type": "code",
   "execution_count": 85,
   "id": "f80f9a5b-fe11-4aa1-9410-09f3b839e4ee",
   "metadata": {},
   "outputs": [],
   "source": [
    "# Class Predictions\n",
    "pred_class <- predict(model,\n",
    "                      new_data = test,\n",
    "                      type = \"class\")"
   ]
  },
  {
   "cell_type": "code",
   "execution_count": 87,
   "id": "5bff4f75-a70b-4544-a3b4-568c2ff1ad20",
   "metadata": {},
   "outputs": [],
   "source": [
    "# Class Probabilities\n",
    "pred_proba <- predict(model,\n",
    "                      new_data = test,\n",
    "                      type = \"prob\")"
   ]
  },
  {
   "cell_type": "markdown",
   "id": "bf337ca5-3342-4232-a819-bbcc82a871a8",
   "metadata": {},
   "source": [
    "Below, evaluates the model based on recall because of prioritization against False Negatives."
   ]
  },
  {
   "cell_type": "code",
   "execution_count": 89,
   "id": "4ba5d085-d1d2-49d2-94db-aef5132c9b3c",
   "metadata": {},
   "outputs": [],
   "source": [
    "results <- test %>%\n",
    "  select(Churn) %>%\n",
    "  bind_cols(pred_class, pred_proba)"
   ]
  },
  {
   "cell_type": "code",
   "execution_count": 175,
   "id": "3917ec57-9246-49d4-b34c-477cb5a784fe",
   "metadata": {},
   "outputs": [
    {
     "data": {
      "text/html": [
       "<table class=\"dataframe\">\n",
       "<caption>A tibble: 1 × 3</caption>\n",
       "<thead>\n",
       "\t<tr><th scope=col>.metric</th><th scope=col>.estimator</th><th scope=col>.estimate</th></tr>\n",
       "\t<tr><th scope=col>&lt;chr&gt;</th><th scope=col>&lt;chr&gt;</th><th scope=col>&lt;dbl&gt;</th></tr>\n",
       "</thead>\n",
       "<tbody>\n",
       "\t<tr><td>precision</td><td>binary</td><td>0.6331169</td></tr>\n",
       "</tbody>\n",
       "</table>\n"
      ],
      "text/latex": [
       "A tibble: 1 × 3\n",
       "\\begin{tabular}{lll}\n",
       " .metric & .estimator & .estimate\\\\\n",
       " <chr> & <chr> & <dbl>\\\\\n",
       "\\hline\n",
       "\t precision & binary & 0.6331169\\\\\n",
       "\\end{tabular}\n"
      ],
      "text/markdown": [
       "\n",
       "A tibble: 1 × 3\n",
       "\n",
       "| .metric &lt;chr&gt; | .estimator &lt;chr&gt; | .estimate &lt;dbl&gt; |\n",
       "|---|---|---|\n",
       "| precision | binary | 0.6331169 |\n",
       "\n"
      ],
      "text/plain": [
       "  .metric   .estimator .estimate\n",
       "1 precision binary     0.6331169"
      ]
     },
     "metadata": {},
     "output_type": "display_data"
    }
   ],
   "source": [
    "#recall for churners (1)\n",
    "precision(results, truth = Churn, estimate = .pred_class, event_level = \"second\")"
   ]
  },
  {
   "cell_type": "code",
   "execution_count": 91,
   "id": "9f3432fe-2177-4638-87a2-af9d3ecbbeed",
   "metadata": {},
   "outputs": [
    {
     "data": {
      "text/html": [
       "<table class=\"dataframe\">\n",
       "<caption>A tibble: 1 × 3</caption>\n",
       "<thead>\n",
       "\t<tr><th scope=col>.metric</th><th scope=col>.estimator</th><th scope=col>.estimate</th></tr>\n",
       "\t<tr><th scope=col>&lt;chr&gt;</th><th scope=col>&lt;chr&gt;</th><th scope=col>&lt;dbl&gt;</th></tr>\n",
       "</thead>\n",
       "<tbody>\n",
       "\t<tr><td>recall</td><td>binary</td><td>0.8966184</td></tr>\n",
       "</tbody>\n",
       "</table>\n"
      ],
      "text/latex": [
       "A tibble: 1 × 3\n",
       "\\begin{tabular}{lll}\n",
       " .metric & .estimator & .estimate\\\\\n",
       " <chr> & <chr> & <dbl>\\\\\n",
       "\\hline\n",
       "\t recall & binary & 0.8966184\\\\\n",
       "\\end{tabular}\n"
      ],
      "text/markdown": [
       "\n",
       "A tibble: 1 × 3\n",
       "\n",
       "| .metric &lt;chr&gt; | .estimator &lt;chr&gt; | .estimate &lt;dbl&gt; |\n",
       "|---|---|---|\n",
       "| recall | binary | 0.8966184 |\n",
       "\n"
      ],
      "text/plain": [
       "  .metric .estimator .estimate\n",
       "1 recall  binary     0.8966184"
      ]
     },
     "metadata": {},
     "output_type": "display_data"
    }
   ],
   "source": [
    "#recall for non-churners (0)\n",
    "recall(results, truth = Churn, estimate = .pred_class)"
   ]
  },
  {
   "cell_type": "code",
   "execution_count": 93,
   "id": "e5540db5-0fd3-4c45-b669-d2b0e1207a83",
   "metadata": {},
   "outputs": [
    {
     "data": {
      "text/html": [
       "<table class=\"dataframe\">\n",
       "<caption>A tibble: 1 × 3</caption>\n",
       "<thead>\n",
       "\t<tr><th scope=col>.metric</th><th scope=col>.estimator</th><th scope=col>.estimate</th></tr>\n",
       "\t<tr><th scope=col>&lt;chr&gt;</th><th scope=col>&lt;chr&gt;</th><th scope=col>&lt;dbl&gt;</th></tr>\n",
       "</thead>\n",
       "<tbody>\n",
       "\t<tr><td>recall</td><td>binary</td><td>0.5</td></tr>\n",
       "</tbody>\n",
       "</table>\n"
      ],
      "text/latex": [
       "A tibble: 1 × 3\n",
       "\\begin{tabular}{lll}\n",
       " .metric & .estimator & .estimate\\\\\n",
       " <chr> & <chr> & <dbl>\\\\\n",
       "\\hline\n",
       "\t recall & binary & 0.5\\\\\n",
       "\\end{tabular}\n"
      ],
      "text/markdown": [
       "\n",
       "A tibble: 1 × 3\n",
       "\n",
       "| .metric &lt;chr&gt; | .estimator &lt;chr&gt; | .estimate &lt;dbl&gt; |\n",
       "|---|---|---|\n",
       "| recall | binary | 0.5 |\n",
       "\n"
      ],
      "text/plain": [
       "  .metric .estimator .estimate\n",
       "1 recall  binary     0.5      "
      ]
     },
     "metadata": {},
     "output_type": "display_data"
    }
   ],
   "source": [
    "#recall for churners (1)\n",
    "recall(results, truth = Churn, estimate = .pred_class, event_level = \"second\")"
   ]
  },
  {
   "cell_type": "markdown",
   "id": "a7337630-e166-4794-972c-55b5de219a85",
   "metadata": {},
   "source": [
    "This is a very low recall for our Churner group which will cause a larger number of false negatives for our model."
   ]
  },
  {
   "cell_type": "markdown",
   "id": "4c9c73a9-8c0f-4d67-8cac-242ce29d8315",
   "metadata": {},
   "source": [
    "## Hyperparameter Tuning"
   ]
  },
  {
   "cell_type": "code",
   "execution_count": 95,
   "id": "954181fa-7641-44d7-a143-7a607ee9c239",
   "metadata": {},
   "outputs": [],
   "source": [
    "#In the logistic_reg() function, set the mixture and penalty arguments to a call to tune().\n",
    "log_reg <- logistic_reg(mixture = tune(), penalty = tune(), engine = \"glmnet\")"
   ]
  },
  {
   "cell_type": "code",
   "execution_count": 97,
   "id": "8116eddd-01a3-4dee-886a-f97f0fedfb31",
   "metadata": {},
   "outputs": [],
   "source": [
    "#Use the grid_regular() function to define a grid of possible values for mixture and penalty. 4,3\n",
    "grid <- grid_regular(mixture(), penalty(), levels = c(mixture = 3, penalty = 1))"
   ]
  },
  {
   "cell_type": "code",
   "execution_count": 99,
   "id": "976fe578-0b61-4216-a2a6-af32c72cb693",
   "metadata": {},
   "outputs": [],
   "source": [
    "#The workflow() function creates an object to store the model details, which is needed when you run it many times. \n",
    "log_reg_wf <- workflow() %>%\n",
    "  add_model(log_reg) %>%\n",
    "  add_formula(Churn ~ .)"
   ]
  },
  {
   "cell_type": "code",
   "execution_count": 101,
   "id": "0427fc28-e25e-4642-8fcf-27db6691e29e",
   "metadata": {},
   "outputs": [],
   "source": [
    "# Define the resampling method for the grid search changed from 5\n",
    "folds <- vfold_cv(train, v = 5)"
   ]
  },
  {
   "cell_type": "code",
   "execution_count": 103,
   "id": "e99ba72f-7608-438d-a818-f881bf7e1f31",
   "metadata": {},
   "outputs": [],
   "source": [
    "# Tune the hyperparameters using the grid search\n",
    "log_reg_tuned <- tune_grid(\n",
    "  metrics = metric_set(recall, roc_auc),\n",
    "  log_reg_wf,\n",
    "  resamples = folds,\n",
    "  grid = grid,\n",
    "  control = control_grid(save_pred = TRUE)\n",
    ")"
   ]
  },
  {
   "cell_type": "code",
   "execution_count": 104,
   "id": "51973f7d-5fa7-45e0-b2ed-0576e3aed518",
   "metadata": {},
   "outputs": [
    {
     "data": {
      "text/html": [
       "<table class=\"dataframe\">\n",
       "<caption>A tibble: 1 × 3</caption>\n",
       "<thead>\n",
       "\t<tr><th scope=col>penalty</th><th scope=col>mixture</th><th scope=col>.config</th></tr>\n",
       "\t<tr><th scope=col>&lt;dbl&gt;</th><th scope=col>&lt;dbl&gt;</th><th scope=col>&lt;chr&gt;</th></tr>\n",
       "</thead>\n",
       "<tbody>\n",
       "\t<tr><td>1e-10</td><td>0.5</td><td>Preprocessor1_Model2</td></tr>\n",
       "</tbody>\n",
       "</table>\n"
      ],
      "text/latex": [
       "A tibble: 1 × 3\n",
       "\\begin{tabular}{lll}\n",
       " penalty & mixture & .config\\\\\n",
       " <dbl> & <dbl> & <chr>\\\\\n",
       "\\hline\n",
       "\t 1e-10 & 0.5 & Preprocessor1\\_Model2\\\\\n",
       "\\end{tabular}\n"
      ],
      "text/markdown": [
       "\n",
       "A tibble: 1 × 3\n",
       "\n",
       "| penalty &lt;dbl&gt; | mixture &lt;dbl&gt; | .config &lt;chr&gt; |\n",
       "|---|---|---|\n",
       "| 1e-10 | 0.5 | Preprocessor1_Model2 |\n",
       "\n"
      ],
      "text/plain": [
       "  penalty mixture .config             \n",
       "1 1e-10   0.5     Preprocessor1_Model2"
      ]
     },
     "metadata": {},
     "output_type": "display_data"
    },
    {
     "data": {
      "text/html": [
       "<pre class=language-r><code>function (x, ...) \n",
       "{\n",
       "<span style=white-space:pre-wrap>    UseMethod(\"select_best\")</span>\n",
       "}</code></pre>"
      ],
      "text/latex": [
       "\\begin{minted}{r}\n",
       "function (x, ...) \n",
       "\\{\n",
       "    UseMethod(\"select\\_best\")\n",
       "\\}\n",
       "\\end{minted}"
      ],
      "text/markdown": [
       "```r\n",
       "function (x, ...) \n",
       "{\n",
       "    UseMethod(\"select_best\")\n",
       "}\n",
       "```"
      ],
      "text/plain": [
       "function (x, ...) \n",
       "{\n",
       "    UseMethod(\"select_best\")\n",
       "}\n",
       "<bytecode: 0x7fc218417ad8>\n",
       "<environment: namespace:tune>"
      ]
     },
     "metadata": {},
     "output_type": "display_data"
    }
   ],
   "source": [
    "#Choose the best model using the select_best() function. You can pick from a choice of metrics that defines the \"best\" one. Here, we'll use the \"receiver operating characteristic area under the curve\" (ROC AUC) metric.\n",
    "select_best(log_reg_tuned, metric = \"roc_auc\")\n",
    "select_best"
   ]
  },
  {
   "cell_type": "code",
   "execution_count": 106,
   "id": "2623dbcb-92ee-437d-ac84-685cb2f676b3",
   "metadata": {},
   "outputs": [],
   "source": [
    "# Fit the model using the optimal hyperparameters\n",
    "log_reg_final <- logistic_reg(penalty = 0.00000000001, mixture = 0.5) %>%\n",
    "  set_engine(\"glmnet\") %>%\n",
    "  set_mode(\"classification\") %>%\n",
    "  fit(Churn~., data = train)"
   ]
  },
  {
   "cell_type": "code",
   "execution_count": 108,
   "id": "8e4eca3e-8afb-4c47-967f-4aa81c32c778",
   "metadata": {},
   "outputs": [],
   "source": [
    "# Evaluate the model performance on the testing set\n",
    "pred_class <- predict(log_reg_final,\n",
    "                      new_data = test,\n",
    "                      type = \"class\")\n",
    "results <- test %>%\n",
    "  select(Churn) %>%\n",
    "  bind_cols(pred_class, pred_proba)"
   ]
  },
  {
   "cell_type": "code",
   "execution_count": 110,
   "id": "df9bfb61-7ec8-49d2-adb7-ee2cb64586ef",
   "metadata": {},
   "outputs": [
    {
     "data": {
      "text/plain": [
       "          Truth\n",
       "Prediction   0   1\n",
       "         0 922 179\n",
       "         1 113 195"
      ]
     },
     "metadata": {},
     "output_type": "display_data"
    }
   ],
   "source": [
    "# Create confusion matrix\n",
    "conf_mat(results, truth = Churn,\n",
    "         estimate = .pred_class)"
   ]
  },
  {
   "cell_type": "code",
   "execution_count": 112,
   "id": "7ff44da9-e119-472e-aa27-1f4856cfb20a",
   "metadata": {},
   "outputs": [
    {
     "data": {
      "text/html": [
       "<table class=\"dataframe\">\n",
       "<caption>A tibble: 1 × 3</caption>\n",
       "<thead>\n",
       "\t<tr><th scope=col>.metric</th><th scope=col>.estimator</th><th scope=col>.estimate</th></tr>\n",
       "\t<tr><th scope=col>&lt;chr&gt;</th><th scope=col>&lt;chr&gt;</th><th scope=col>&lt;dbl&gt;</th></tr>\n",
       "</thead>\n",
       "<tbody>\n",
       "\t<tr><td>recall</td><td>binary</td><td>0.5213904</td></tr>\n",
       "</tbody>\n",
       "</table>\n"
      ],
      "text/latex": [
       "A tibble: 1 × 3\n",
       "\\begin{tabular}{lll}\n",
       " .metric & .estimator & .estimate\\\\\n",
       " <chr> & <chr> & <dbl>\\\\\n",
       "\\hline\n",
       "\t recall & binary & 0.5213904\\\\\n",
       "\\end{tabular}\n"
      ],
      "text/markdown": [
       "\n",
       "A tibble: 1 × 3\n",
       "\n",
       "| .metric &lt;chr&gt; | .estimator &lt;chr&gt; | .estimate &lt;dbl&gt; |\n",
       "|---|---|---|\n",
       "| recall | binary | 0.5213904 |\n",
       "\n"
      ],
      "text/plain": [
       "  .metric .estimator .estimate\n",
       "1 recall  binary     0.5213904"
      ]
     },
     "metadata": {},
     "output_type": "display_data"
    }
   ],
   "source": [
    "recall(results, truth = Churn,\n",
    "       estimate = .pred_class, event_level = \"second\") #putting event_level = second shows recall for Churners (1)"
   ]
  },
  {
   "cell_type": "code",
   "execution_count": 114,
   "id": "e9422b11-3ba2-40ed-bf24-c23dadfce084",
   "metadata": {},
   "outputs": [
    {
     "data": {
      "text/html": [
       "<table class=\"dataframe\">\n",
       "<caption>A tibble: 1 × 3</caption>\n",
       "<thead>\n",
       "\t<tr><th scope=col>.metric</th><th scope=col>.estimator</th><th scope=col>.estimate</th></tr>\n",
       "\t<tr><th scope=col>&lt;chr&gt;</th><th scope=col>&lt;chr&gt;</th><th scope=col>&lt;dbl&gt;</th></tr>\n",
       "</thead>\n",
       "<tbody>\n",
       "\t<tr><td>accuracy</td><td>binary</td><td>0.7927608</td></tr>\n",
       "</tbody>\n",
       "</table>\n"
      ],
      "text/latex": [
       "A tibble: 1 × 3\n",
       "\\begin{tabular}{lll}\n",
       " .metric & .estimator & .estimate\\\\\n",
       " <chr> & <chr> & <dbl>\\\\\n",
       "\\hline\n",
       "\t accuracy & binary & 0.7927608\\\\\n",
       "\\end{tabular}\n"
      ],
      "text/markdown": [
       "\n",
       "A tibble: 1 × 3\n",
       "\n",
       "| .metric &lt;chr&gt; | .estimator &lt;chr&gt; | .estimate &lt;dbl&gt; |\n",
       "|---|---|---|\n",
       "| accuracy | binary | 0.7927608 |\n",
       "\n"
      ],
      "text/plain": [
       "  .metric  .estimator .estimate\n",
       "1 accuracy binary     0.7927608"
      ]
     },
     "metadata": {},
     "output_type": "display_data"
    }
   ],
   "source": [
    "accuracy(results, truth = Churn,\n",
    "       estimate = .pred_class, event_level = \"second\") "
   ]
  },
  {
   "cell_type": "markdown",
   "id": "8a322470-aeb9-45f1-9922-eb77812643db",
   "metadata": {},
   "source": [
    "The largest recall for Churners (1) that could be output by changing penalty and mixture parameters is 52%."
   ]
  },
  {
   "cell_type": "code",
   "execution_count": 116,
   "id": "080387e4-38c0-4356-94e8-dfe519802fc7",
   "metadata": {},
   "outputs": [
    {
     "data": {
      "text/html": [
       "<table class=\"dataframe\">\n",
       "<caption>A tibble: 7 × 3</caption>\n",
       "<thead>\n",
       "\t<tr><th scope=col>term</th><th scope=col>estimate</th><th scope=col>penalty</th></tr>\n",
       "\t<tr><th scope=col>&lt;chr&gt;</th><th scope=col>&lt;dbl&gt;</th><th scope=col>&lt;dbl&gt;</th></tr>\n",
       "</thead>\n",
       "<tbody>\n",
       "\t<tr><td>ContractTwo year             </td><td>-1.8230555</td><td>1e-11</td></tr>\n",
       "\t<tr><td>tenure                       </td><td>-0.9392636</td><td>1e-11</td></tr>\n",
       "\t<tr><td>(Intercept)                  </td><td>-0.9152513</td><td>1e-11</td></tr>\n",
       "\t<tr><td>ContractOne year             </td><td>-0.8865652</td><td>1e-11</td></tr>\n",
       "\t<tr><td>InternetServiceFiber optic   </td><td> 0.8496650</td><td>1e-11</td></tr>\n",
       "\t<tr><td>InternetServiceNo            </td><td>-0.7505403</td><td>1e-11</td></tr>\n",
       "\t<tr><td>MultipleLinesNo phone service</td><td> 0.5069904</td><td>1e-11</td></tr>\n",
       "</tbody>\n",
       "</table>\n"
      ],
      "text/latex": [
       "A tibble: 7 × 3\n",
       "\\begin{tabular}{lll}\n",
       " term & estimate & penalty\\\\\n",
       " <chr> & <dbl> & <dbl>\\\\\n",
       "\\hline\n",
       "\t ContractTwo year              & -1.8230555 & 1e-11\\\\\n",
       "\t tenure                        & -0.9392636 & 1e-11\\\\\n",
       "\t (Intercept)                   & -0.9152513 & 1e-11\\\\\n",
       "\t ContractOne year              & -0.8865652 & 1e-11\\\\\n",
       "\t InternetServiceFiber optic    &  0.8496650 & 1e-11\\\\\n",
       "\t InternetServiceNo             & -0.7505403 & 1e-11\\\\\n",
       "\t MultipleLinesNo phone service &  0.5069904 & 1e-11\\\\\n",
       "\\end{tabular}\n"
      ],
      "text/markdown": [
       "\n",
       "A tibble: 7 × 3\n",
       "\n",
       "| term &lt;chr&gt; | estimate &lt;dbl&gt; | penalty &lt;dbl&gt; |\n",
       "|---|---|---|\n",
       "| ContractTwo year              | -1.8230555 | 1e-11 |\n",
       "| tenure                        | -0.9392636 | 1e-11 |\n",
       "| (Intercept)                   | -0.9152513 | 1e-11 |\n",
       "| ContractOne year              | -0.8865652 | 1e-11 |\n",
       "| InternetServiceFiber optic    |  0.8496650 | 1e-11 |\n",
       "| InternetServiceNo             | -0.7505403 | 1e-11 |\n",
       "| MultipleLinesNo phone service |  0.5069904 | 1e-11 |\n",
       "\n"
      ],
      "text/plain": [
       "  term                          estimate   penalty\n",
       "1 ContractTwo year              -1.8230555 1e-11  \n",
       "2 tenure                        -0.9392636 1e-11  \n",
       "3 (Intercept)                   -0.9152513 1e-11  \n",
       "4 ContractOne year              -0.8865652 1e-11  \n",
       "5 InternetServiceFiber optic     0.8496650 1e-11  \n",
       "6 InternetServiceNo             -0.7505403 1e-11  \n",
       "7 MultipleLinesNo phone service  0.5069904 1e-11  "
      ]
     },
     "metadata": {},
     "output_type": "display_data"
    }
   ],
   "source": [
    "#Understanding the features impacting whether a customer will churn. Only features with estimates larger than 0.5 are considered.\n",
    "coeff <- tidy(log_reg_final) %>% \n",
    "  arrange(desc(abs(estimate))) %>% \n",
    "  filter(abs(estimate) > 0.5)\n",
    "\n",
    "coeff"
   ]
  },
  {
   "cell_type": "code",
   "execution_count": 118,
   "id": "c8bdb59f-3861-44f9-bf8d-1ea97019685b",
   "metadata": {},
   "outputs": [
    {
     "data": {
      "image/png": "[encoded data removed]",
      "text/plain": [
       "plot without title"
      ]
     },
     "metadata": {
      "image/png": {
       "height": 360,
       "width": 720
      }
     },
     "output_type": "display_data"
    }
   ],
   "source": [
    "#Plot the feautre importance using the ggplot() function\n",
    "options(repr.plot.width = 12, repr.plot.height = 6)  # Adjust to your needs\n",
    "ggplot(coeff, aes(x = term, y = estimate, fill = term)) + geom_col() + coord_flip()"
   ]
  },
  {
   "cell_type": "markdown",
   "id": "6e519097-be30-4815-a861-d7da71348997",
   "metadata": {},
   "source": [
    "The graph above illustrates the features with estimates greater than 0.5. Intercept represents the dropped value for multiclass features when the log regression model engine 'glmnet' converts the factored features into dummy variables. This is done to reduce multicollinearity which can cause issues in model performance and feature estimates. \n",
    "\n",
    "### \"Intercept\" represents:\n",
    " - InternetService_DSL\n",
    " - Contract_Month-to-month\n",
    " - MultipleLines_No\n",
    " - PaymentMethod_BankTransfer"
   ]
  },
  {
   "cell_type": "markdown",
   "id": "bf635e91-cc72-45a5-8970-5983d3ba12fc",
   "metadata": {},
   "source": [
    "# Further Analysis of Results"
   ]
  },
  {
   "cell_type": "markdown",
   "id": "186fb42f-4b60-4b02-aaf9-7b7d7b6c7212",
   "metadata": {},
   "source": [
    "The below code was provided by ChatGPT to create a coefficient table and graph the results. Because the engine used for the logistic regression model was \"glmnet\", there is no output about standard error or p-values, but it allows us to add penalty and mixture parameters to create a more feature importance-based model.\n",
    "\n",
    "\n",
    "- OpenAI. (2025, August 4). Conversation with ChatGPT about interpreting logistic regression, standard errors, and ggplot customization in R. ChatGPT (Version 4.0) [Large language model]. https://chat.openai.com/"
   ]
  },
  {
   "cell_type": "code",
   "execution_count": 120,
   "id": "d3a7b372-15c9-46eb-8a39-379330ba6545",
   "metadata": {},
   "outputs": [],
   "source": [
    "coeff <- tidy(log_reg_final) %>% \n",
    "  arrange(desc(abs(estimate))) %>% \n",
    "  filter(abs(estimate) > 0) %>% \n",
    "  mutate(percent_odds_change = (exp(estimate) - 1) * 100)"
   ]
  },
  {
   "cell_type": "markdown",
   "id": "400ef1d7-d062-4a40-bbdd-0051d81fb5b0",
   "metadata": {},
   "source": [
    "Below is the coeff table for the dataset features ordered by the absolute value of percent_odds_change. This table includes every feature."
   ]
  },
  {
   "cell_type": "code",
   "execution_count": 122,
   "id": "1aed93e4-0b3e-4eba-ae84-e8f0144c01d2",
   "metadata": {},
   "outputs": [
    {
     "data": {
      "text/html": [
       "<table class=\"dataframe\">\n",
       "<caption>A tibble: 23 × 4</caption>\n",
       "<thead>\n",
       "\t<tr><th scope=col>term</th><th scope=col>estimate</th><th scope=col>penalty</th><th scope=col>percent_odds_change</th></tr>\n",
       "\t<tr><th scope=col>&lt;chr&gt;</th><th scope=col>&lt;dbl&gt;</th><th scope=col>&lt;dbl&gt;</th><th scope=col>&lt;dbl&gt;</th></tr>\n",
       "</thead>\n",
       "<tbody>\n",
       "\t<tr><td>InternetServiceFiber optic          </td><td> 0.84966503</td><td>1e-11</td><td>133.886327</td></tr>\n",
       "\t<tr><td>ContractTwo year                    </td><td>-1.82305550</td><td>1e-11</td><td>-83.846856</td></tr>\n",
       "\t<tr><td>MultipleLinesNo phone service       </td><td> 0.50699042</td><td>1e-11</td><td> 66.028690</td></tr>\n",
       "\t<tr><td>tenure                              </td><td>-0.93926360</td><td>1e-11</td><td>-60.908440</td></tr>\n",
       "\t<tr><td>(Intercept)                         </td><td>-0.91525133</td><td>1e-11</td><td>-59.958402</td></tr>\n",
       "\t<tr><td>ContractOne year                    </td><td>-0.88656522</td><td>1e-11</td><td>-58.793131</td></tr>\n",
       "\t<tr><td>InternetServiceNo                   </td><td>-0.75054027</td><td>1e-11</td><td>-52.788858</td></tr>\n",
       "\t<tr><td>PaymentMethodElectronic check       </td><td> 0.38291481</td><td>1e-11</td><td> 46.655309</td></tr>\n",
       "\t<tr><td>PaperlessBilling                    </td><td> 0.34712479</td><td>1e-11</td><td> 41.499329</td></tr>\n",
       "\t<tr><td>OnlineSecurity                      </td><td>-0.42077965</td><td>1e-11</td><td>-34.346525</td></tr>\n",
       "\t<tr><td>TechSupport                         </td><td>-0.41089032</td><td>1e-11</td><td>-33.694035</td></tr>\n",
       "\t<tr><td>SeniorCitizen                       </td><td> 0.26029005</td><td>1e-11</td><td> 29.730632</td></tr>\n",
       "\t<tr><td>StreamingTV                         </td><td> 0.25233461</td><td>1e-11</td><td> 28.702662</td></tr>\n",
       "\t<tr><td>MultipleLinesYes                    </td><td> 0.24627462</td><td>1e-11</td><td> 27.925083</td></tr>\n",
       "\t<tr><td>StreamingMovies                     </td><td> 0.20912870</td><td>1e-11</td><td> 23.260362</td></tr>\n",
       "\t<tr><td>OnlineBackup                        </td><td>-0.21519490</td><td>1e-11</td><td>-19.361574</td></tr>\n",
       "\t<tr><td>Partner                             </td><td>-0.12440920</td><td>1e-11</td><td>-11.698156</td></tr>\n",
       "\t<tr><td>PaymentMethodCredit card (automatic)</td><td>-0.09549944</td><td>1e-11</td><td> -9.108113</td></tr>\n",
       "\t<tr><td>DeviceProtection                    </td><td>-0.08947812</td><td>1e-11</td><td> -8.559173</td></tr>\n",
       "\t<tr><td>Dependents                          </td><td>-0.08351138</td><td>1e-11</td><td> -8.011938</td></tr>\n",
       "\t<tr><td>PaymentMethodMailed check           </td><td> 0.05652430</td><td>1e-11</td><td>  5.815232</td></tr>\n",
       "\t<tr><td>gender                              </td><td>-0.05510395</td><td>1e-11</td><td> -5.361324</td></tr>\n",
       "\t<tr><td>MonthlyCharges                      </td><td>-0.04576996</td><td>1e-11</td><td> -4.473831</td></tr>\n",
       "</tbody>\n",
       "</table>\n"
      ],
      "text/latex": [
       "A tibble: 23 × 4\n",
       "\\begin{tabular}{llll}\n",
       " term & estimate & penalty & percent\\_odds\\_change\\\\\n",
       " <chr> & <dbl> & <dbl> & <dbl>\\\\\n",
       "\\hline\n",
       "\t InternetServiceFiber optic           &  0.84966503 & 1e-11 & 133.886327\\\\\n",
       "\t ContractTwo year                     & -1.82305550 & 1e-11 & -83.846856\\\\\n",
       "\t MultipleLinesNo phone service        &  0.50699042 & 1e-11 &  66.028690\\\\\n",
       "\t tenure                               & -0.93926360 & 1e-11 & -60.908440\\\\\n",
       "\t (Intercept)                          & -0.91525133 & 1e-11 & -59.958402\\\\\n",
       "\t ContractOne year                     & -0.88656522 & 1e-11 & -58.793131\\\\\n",
       "\t InternetServiceNo                    & -0.75054027 & 1e-11 & -52.788858\\\\\n",
       "\t PaymentMethodElectronic check        &  0.38291481 & 1e-11 &  46.655309\\\\\n",
       "\t PaperlessBilling                     &  0.34712479 & 1e-11 &  41.499329\\\\\n",
       "\t OnlineSecurity                       & -0.42077965 & 1e-11 & -34.346525\\\\\n",
       "\t TechSupport                          & -0.41089032 & 1e-11 & -33.694035\\\\\n",
       "\t SeniorCitizen                        &  0.26029005 & 1e-11 &  29.730632\\\\\n",
       "\t StreamingTV                          &  0.25233461 & 1e-11 &  28.702662\\\\\n",
       "\t MultipleLinesYes                     &  0.24627462 & 1e-11 &  27.925083\\\\\n",
       "\t StreamingMovies                      &  0.20912870 & 1e-11 &  23.260362\\\\\n",
       "\t OnlineBackup                         & -0.21519490 & 1e-11 & -19.361574\\\\\n",
       "\t Partner                              & -0.12440920 & 1e-11 & -11.698156\\\\\n",
       "\t PaymentMethodCredit card (automatic) & -0.09549944 & 1e-11 &  -9.108113\\\\\n",
       "\t DeviceProtection                     & -0.08947812 & 1e-11 &  -8.559173\\\\\n",
       "\t Dependents                           & -0.08351138 & 1e-11 &  -8.011938\\\\\n",
       "\t PaymentMethodMailed check            &  0.05652430 & 1e-11 &   5.815232\\\\\n",
       "\t gender                               & -0.05510395 & 1e-11 &  -5.361324\\\\\n",
       "\t MonthlyCharges                       & -0.04576996 & 1e-11 &  -4.473831\\\\\n",
       "\\end{tabular}\n"
      ],
      "text/markdown": [
       "\n",
       "A tibble: 23 × 4\n",
       "\n",
       "| term &lt;chr&gt; | estimate &lt;dbl&gt; | penalty &lt;dbl&gt; | percent_odds_change &lt;dbl&gt; |\n",
       "|---|---|---|---|\n",
       "| InternetServiceFiber optic           |  0.84966503 | 1e-11 | 133.886327 |\n",
       "| ContractTwo year                     | -1.82305550 | 1e-11 | -83.846856 |\n",
       "| MultipleLinesNo phone service        |  0.50699042 | 1e-11 |  66.028690 |\n",
       "| tenure                               | -0.93926360 | 1e-11 | -60.908440 |\n",
       "| (Intercept)                          | -0.91525133 | 1e-11 | -59.958402 |\n",
       "| ContractOne year                     | -0.88656522 | 1e-11 | -58.793131 |\n",
       "| InternetServiceNo                    | -0.75054027 | 1e-11 | -52.788858 |\n",
       "| PaymentMethodElectronic check        |  0.38291481 | 1e-11 |  46.655309 |\n",
       "| PaperlessBilling                     |  0.34712479 | 1e-11 |  41.499329 |\n",
       "| OnlineSecurity                       | -0.42077965 | 1e-11 | -34.346525 |\n",
       "| TechSupport                          | -0.41089032 | 1e-11 | -33.694035 |\n",
       "| SeniorCitizen                        |  0.26029005 | 1e-11 |  29.730632 |\n",
       "| StreamingTV                          |  0.25233461 | 1e-11 |  28.702662 |\n",
       "| MultipleLinesYes                     |  0.24627462 | 1e-11 |  27.925083 |\n",
       "| StreamingMovies                      |  0.20912870 | 1e-11 |  23.260362 |\n",
       "| OnlineBackup                         | -0.21519490 | 1e-11 | -19.361574 |\n",
       "| Partner                              | -0.12440920 | 1e-11 | -11.698156 |\n",
       "| PaymentMethodCredit card (automatic) | -0.09549944 | 1e-11 |  -9.108113 |\n",
       "| DeviceProtection                     | -0.08947812 | 1e-11 |  -8.559173 |\n",
       "| Dependents                           | -0.08351138 | 1e-11 |  -8.011938 |\n",
       "| PaymentMethodMailed check            |  0.05652430 | 1e-11 |   5.815232 |\n",
       "| gender                               | -0.05510395 | 1e-11 |  -5.361324 |\n",
       "| MonthlyCharges                       | -0.04576996 | 1e-11 |  -4.473831 |\n",
       "\n"
      ],
      "text/plain": [
       "   term                                 estimate    penalty percent_odds_change\n",
       "1  InternetServiceFiber optic            0.84966503 1e-11   133.886327         \n",
       "2  ContractTwo year                     -1.82305550 1e-11   -83.846856         \n",
       "3  MultipleLinesNo phone service         0.50699042 1e-11    66.028690         \n",
       "4  tenure                               -0.93926360 1e-11   -60.908440         \n",
       "5  (Intercept)                          -0.91525133 1e-11   -59.958402         \n",
       "6  ContractOne year                     -0.88656522 1e-11   -58.793131         \n",
       "7  InternetServiceNo                    -0.75054027 1e-11   -52.788858         \n",
       "8  PaymentMethodElectronic check         0.38291481 1e-11    46.655309         \n",
       "9  PaperlessBilling                      0.34712479 1e-11    41.499329         \n",
       "10 OnlineSecurity                       -0.42077965 1e-11   -34.346525         \n",
       "11 TechSupport                          -0.41089032 1e-11   -33.694035         \n",
       "12 SeniorCitizen                         0.26029005 1e-11    29.730632         \n",
       "13 StreamingTV                           0.25233461 1e-11    28.702662         \n",
       "14 MultipleLinesYes                      0.24627462 1e-11    27.925083         \n",
       "15 StreamingMovies                       0.20912870 1e-11    23.260362         \n",
       "16 OnlineBackup                         -0.21519490 1e-11   -19.361574         \n",
       "17 Partner                              -0.12440920 1e-11   -11.698156         \n",
       "18 PaymentMethodCredit card (automatic) -0.09549944 1e-11    -9.108113         \n",
       "19 DeviceProtection                     -0.08947812 1e-11    -8.559173         \n",
       "20 Dependents                           -0.08351138 1e-11    -8.011938         \n",
       "21 PaymentMethodMailed check             0.05652430 1e-11     5.815232         \n",
       "22 gender                               -0.05510395 1e-11    -5.361324         \n",
       "23 MonthlyCharges                       -0.04576996 1e-11    -4.473831         "
      ]
     },
     "metadata": {},
     "output_type": "display_data"
    }
   ],
   "source": [
    "coeff[order(abs(coeff$percent_odds_change), decreasing = TRUE),]"
   ]
  },
  {
   "cell_type": "code",
   "execution_count": 179,
   "id": "23758cd7-f78d-4ecc-8b0a-65eecba71c17",
   "metadata": {},
   "outputs": [],
   "source": [
    "coeff$fill_color <- ifelse(coeff$percent_odds_change > 0, \"red\", \"darkgreen\")"
   ]
  },
  {
   "cell_type": "code",
   "execution_count": null,
   "id": "75743763-61c5-4461-9449-d6c51632ae4d",
   "metadata": {},
   "outputs": [],
   "source": [
    "  ggplot(data, aes(x, y)) +\n",
    "      geom_point() +\n",
    "      theme(panel.border = element_rect(colour = \"black\", fill = NA, size = 1))"
   ]
  },
  {
   "cell_type": "code",
   "execution_count": 217,
   "id": "245fa4d1-4026-4701-8320-88a6c479098b",
   "metadata": {},
   "outputs": [
    {
     "data": {
      "image/png": "[encoded data removed]",
      "text/plain": [
       "plot without title"
      ]
     },
     "metadata": {
      "image/png": {
       "height": 360,
       "width": 720
      }
     },
     "output_type": "display_data"
    }
   ],
   "source": [
    "ggplot(coeff, aes(x = reorder(term, abs(percent_odds_change)), \n",
    "                  y = percent_odds_change, \n",
    "                  fill = fill_color)) +\n",
    "  geom_col() +  # black outline around each bar\n",
    "  coord_flip() +\n",
    "  labs(\n",
    "    x = \"Features\",\n",
    "    y = \"Effect on Odds (%)\",\n",
    "    title = \"Feature Effect on Churn Odds\"\n",
    "  ) +\n",
    "  scale_fill_identity() +  \n",
    "  theme_minimal() +\n",
    "  theme(\n",
    "    legend.position = \"none\",\n",
    "    panel.border = element_rect(colour = \"black\", fill = NA, linewidth = 1)  # black box around plot\n",
    "  )"
   ]
  },
  {
   "cell_type": "markdown",
   "id": "c19530cc-3b88-4107-8397-24c38af37883",
   "metadata": {},
   "source": [
    "# Conclusion "
   ]
  },
  {
   "cell_type": "markdown",
   "id": "f12ee5fd-1b8b-4fc8-bb44-f5c0c734bc43",
   "metadata": {},
   "source": [
    "Although the R and Python logistic regression models both offered valuable insights into customer churn, they differed in terms of their efficacy and the weight they placed on specific features.\n",
    "\n",
    "\n",
    " The Python model, which was constructed using sklearn, obtained an overall accuracy of 82% and a churner recall of 58%.  The R model, which was constructed using glmnet, yielded a slightly lower accuracy of 79% and a churner recall of 52%.  Tuning the penalty and mixture parameters in R exacerbated the challenge of explicitly prioritizing churner recall.\n",
    "\n",
    "\n",
    " In terms of feature prominence, the top predictors were closely aligned between both models; however, their effect sizes and feature rankings beyond the top three varied.\n",
    " - In both models, fiber optic internet service was the primary churn driver, increasing the likelihood of attrition by 167% in Python and 134% in R.\n",
    " - The most effective protective factor was a two-year contract, which decreased the likelihood of attrition by 85% in Python and 84% in R.\n",
    " The attrition rate in both cases was reduced by approximately 60% as a result of the one-year contract that followed.\n",
    " - InternetService_No was also protective in both cases, reducing the likelihood of attrition by 59% in Python and 53% in R.\n",
    " - Tenure was ranked within the top five in R (−61% effect) but just outside the top five in Python (−55%).\n",
    "\n",
    "\n",
    " It is important to note that the MultipleLines_No phone service had a larger impact in R (+66% churn probabilities) than in Python (+50%), indicating that the R model places a greater emphasis on this factor.\n",
    "\n",
    "\n",
    " In general, the models identified the same top churn indicators, with tenure, internet service, and contract type emerging as the most significant.  The R model placed a greater emphasis on features such as tenure and multiple lines, while the Python model demonstrated stronger recall and clearer interpretability.  These discrepancies may be attributed to the \"glmnet\" engine in R, which applies parameters to the model, including penalty and mixture, as well as the potential impact of the baseline intercept on the results."
   ]
  },
  {
   "cell_type": "markdown",
   "id": "d12fcb89-d134-46b9-a645-b2134e49c9fa",
   "metadata": {},
   "source": [
    "# References\n",
    "\n",
    "- Choudhury, A. (2023, August 14). Logistic Regression in R: The Ultimate Tutorial with Examples. DataCamp. https://www.datacamp.com/tutorial/logistic-regression-R\n",
    "\n",
    "\n",
    "- Johns Hopkins University. (2025, January 10). R Programming [Online course]. Coursera. https://www.coursera.org/learn/r-programming\n",
    "\n",
    "\n",
    "- OpenAI. (2025). ChatGPT (Version 4.0) [Large language model]. https://chat.openai.com/\n",
    "\n",
    "- Starmer, J. [StatQuest with Josh Starmer]. (2017, November 14). Logistic Regression in R, Clearly Explained!!!! [Video]. YouTube. https://www.youtube.com/watch?v=zAULhNrnuL4\n"
   ]
  }
 ],
 "metadata": {
  "kernelspec": {
   "display_name": "R",
   "language": "R",
   "name": "ir"
  },
  "language_info": {
   "codemirror_mode": "r",
   "file_extension": ".r",
   "mimetype": "text/x-r-source",
   "name": "R",
   "pygments_lexer": "r",
   "version": "4.4.2"
  }
 },
 "nbformat": 4,
 "nbformat_minor": 5
}
